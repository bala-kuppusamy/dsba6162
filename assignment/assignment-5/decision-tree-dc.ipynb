{
 "cells": [
  {
   "cell_type": "code",
   "execution_count": 80,
   "metadata": {
    "collapsed": true,
    "pycharm": {
     "is_executing": false
    }
   },
   "outputs": [],
   "source": [
    "import os\n",
    "import pandas as pd\n",
    "from pandas import DataFrame\n",
    "import seaborn as sns\n",
    "from graphviz import Source\n",
    "\n",
    "from sklearn import datasets, tree\n",
    "from sklearn.model_selection import train_test_split\n",
    "from sklearn.tree import DecisionTreeClassifier\n",
    "from sklearn.metrics import f1_score, precision_score, recall_score, confusion_matrix, classification_report, accuracy_score"
   ]
  },
  {
   "cell_type": "code",
   "execution_count": 81,
   "outputs": [],
   "source": [
    "# the pwd assignment is needed for using it via docker.\n",
    "# absolute path as interpreted by the container has to be specified\n",
    "pwd: str = os.environ['HOME'] + '/work/assignment/assignment-5'"
   ],
   "metadata": {
    "collapsed": false,
    "pycharm": {
     "name": "#%%\n",
     "is_executing": false
    }
   }
  },
  {
   "cell_type": "markdown",
   "source": [
    "#### Read the input file"
   ],
   "metadata": {
    "collapsed": false
   }
  },
  {
   "cell_type": "code",
   "execution_count": 82,
   "outputs": [],
   "source": [
    "master = pd.read_csv(pwd + '/AdultUCI.csv')"
   ],
   "metadata": {
    "collapsed": false,
    "pycharm": {
     "name": "#%%\n",
     "is_executing": false
    }
   }
  },
  {
   "cell_type": "markdown",
   "source": [
    "#### Exploring null values"
   ],
   "metadata": {
    "collapsed": false
   }
  },
  {
   "cell_type": "code",
   "execution_count": 83,
   "outputs": [
    {
     "name": "stdout",
     "text": [
      "age                   0\nworkclass          2799\nfnlwgt                0\neducation             0\neducation-num         0\nmarital-status        0\noccupation         2809\nrelationship          0\nrace                  0\nsex                   0\ncapital-gain          0\ncapital-loss          0\nhours-per-week        0\nnative-country      857\nincome            16281\ndtype: int64\n"
     ],
     "output_type": "stream"
    }
   ],
   "source": [
    "print(master.isna().sum())"
   ],
   "metadata": {
    "collapsed": false,
    "pycharm": {
     "name": "#%%\n",
     "is_executing": false
    }
   }
  },
  {
   "cell_type": "markdown",
   "source": [
    "#### Filtering out rows with income = null"
   ],
   "metadata": {
    "collapsed": false
   }
  },
  {
   "cell_type": "code",
   "execution_count": 84,
   "outputs": [],
   "source": [
    "income_not_null = master['income'].notnull()\n",
    "master = master[income_not_null]"
   ],
   "metadata": {
    "collapsed": false,
    "pycharm": {
     "name": "#%%\n",
     "is_executing": false
    }
   }
  },
  {
   "cell_type": "markdown",
   "source": [
    "#### Exploring null values (after removing income = null records)"
   ],
   "metadata": {
    "collapsed": false
   }
  },
  {
   "cell_type": "code",
   "execution_count": 85,
   "outputs": [
    {
     "name": "stdout",
     "text": [
      "age                  0\nworkclass         1836\nfnlwgt               0\neducation            0\neducation-num        0\nmarital-status       0\noccupation        1843\nrelationship         0\nrace                 0\nsex                  0\ncapital-gain         0\ncapital-loss         0\nhours-per-week       0\nnative-country     583\nincome               0\ndtype: int64\n"
     ],
     "output_type": "stream"
    }
   ],
   "source": [
    "print(master.isna().sum())"
   ],
   "metadata": {
    "collapsed": false,
    "pycharm": {
     "name": "#%%\n",
     "is_executing": false
    }
   }
  },
  {
   "cell_type": "markdown",
   "source": [
    "#### Exploring field values summary"
   ],
   "metadata": {
    "collapsed": false
   }
  },
  {
   "cell_type": "code",
   "execution_count": 86,
   "outputs": [
    {
     "name": "stdout",
     "text": [
      "                  count           mean            std      min       25%  \\\nage             32561.0      38.581647      13.640433     17.0      28.0   \nfnlwgt          32561.0  189778.366512  105549.977697  12285.0  117827.0   \neducation-num   32561.0      10.080679       2.572720      1.0       9.0   \ncapital-gain    32561.0    1077.648844    7385.292085      0.0       0.0   \ncapital-loss    32561.0      87.303830     402.960219      0.0       0.0   \nhours-per-week  32561.0      40.437456      12.347429      1.0      40.0   \n\n                     50%       75%        max  \nage                 37.0      48.0       90.0  \nfnlwgt          178356.0  237051.0  1484705.0  \neducation-num       10.0      12.0       16.0  \ncapital-gain         0.0       0.0    99999.0  \ncapital-loss         0.0       0.0     4356.0  \nhours-per-week      40.0      45.0       99.0  \n"
     ],
     "output_type": "stream"
    }
   ],
   "source": [
    "print(master.describe().T)"
   ],
   "metadata": {
    "collapsed": false,
    "pycharm": {
     "name": "#%%\n",
     "is_executing": false
    }
   }
  },
  {
   "cell_type": "markdown",
   "source": [
    "#### Exploring field types"
   ],
   "metadata": {
    "collapsed": false
   }
  },
  {
   "cell_type": "code",
   "execution_count": 87,
   "outputs": [
    {
     "name": "stdout",
     "text": [
      "<class 'pandas.core.frame.DataFrame'>\nInt64Index: 32561 entries, 0 to 32560\nData columns (total 15 columns):\n #   Column          Non-Null Count  Dtype \n---  ------          --------------  ----- \n 0   age             32561 non-null  int64 \n 1   workclass       30725 non-null  object\n 2   fnlwgt          32561 non-null  int64 \n 3   education       32561 non-null  object\n 4   education-num   32561 non-null  int64 \n 5   marital-status  32561 non-null  object\n 6   occupation      30718 non-null  object\n 7   relationship    32561 non-null  object\n 8   race            32561 non-null  object\n 9   sex             32561 non-null  object\n 10  capital-gain    32561 non-null  int64 \n 11  capital-loss    32561 non-null  int64 \n 12  hours-per-week  32561 non-null  int64 \n 13  native-country  31978 non-null  object\n 14  income          32561 non-null  object\ndtypes: int64(6), object(9)\nmemory usage: 4.0+ MB\nNone\n"
     ],
     "output_type": "stream"
    }
   ],
   "source": [
    "print(master.info())"
   ],
   "metadata": {
    "collapsed": false,
    "pycharm": {
     "name": "#%%\n",
     "is_executing": false
    }
   }
  },
  {
   "cell_type": "markdown",
   "source": [
    "#### Exploring field correlation"
   ],
   "metadata": {
    "collapsed": false
   }
  },
  {
   "cell_type": "code",
   "execution_count": 88,
   "outputs": [
    {
     "name": "stdout",
     "text": [
      "                     age    fnlwgt  education-num  capital-gain  capital-loss  \\\nage             1.000000 -0.076646       0.036527      0.077674      0.057775   \nfnlwgt         -0.076646  1.000000      -0.043195      0.000432     -0.010252   \neducation-num   0.036527 -0.043195       1.000000      0.122630      0.079923   \ncapital-gain    0.077674  0.000432       0.122630      1.000000     -0.031615   \ncapital-loss    0.057775 -0.010252       0.079923     -0.031615      1.000000   \nhours-per-week  0.068756 -0.018768       0.148123      0.078409      0.054256   \n\n                hours-per-week  \nage                   0.068756  \nfnlwgt               -0.018768  \neducation-num         0.148123  \ncapital-gain          0.078409  \ncapital-loss          0.054256  \nhours-per-week        1.000000  \n"
     ],
     "output_type": "stream"
    }
   ],
   "source": [
    "print(master.corr())"
   ],
   "metadata": {
    "collapsed": false,
    "pycharm": {
     "name": "#%%\n",
     "is_executing": false
    }
   }
  },
  {
   "cell_type": "markdown",
   "source": [
    "#### Explore the number of levels in each column"
   ],
   "metadata": {
    "collapsed": false
   }
  },
  {
   "cell_type": "code",
   "execution_count": 89,
   "outputs": [
    {
     "name": "stdout",
     "text": [
      "Col =  workclass  :: Levels =  9\nCol = ",
      " education  :: Levels =  16\nCol =  marital-status  :: Levels =  7\nCol =  occupation  :: Levels =  15\nCol =  relationship  :: Levels =  6\nCol =  race  :: Levels =  5\nCol =  sex  :: Levels =  2\nCol =  native-country  :: Levels =  42\nCol =  income  :: Levels =  2\n"
     ],
     "output_type": "stream"
    }
   ],
   "source": [
    "category_cols = ['workclass', 'education', 'marital-status', 'occupation', 'relationship', \n",
    "        'race', 'sex', 'native-country', 'income']\n",
    "for col in category_cols:\n",
    "    print('Col = ', col, ' :: Levels = ', len(master[col].unique()))"
   ],
   "metadata": {
    "collapsed": false,
    "pycharm": {
     "name": "#%%\n",
     "is_executing": false
    }
   }
  },
  {
   "cell_type": "markdown",
   "source": [
    "#### Explore the distinct values in each column"
   ],
   "metadata": {
    "collapsed": false
   }
  },
  {
   "cell_type": "code",
   "execution_count": 90,
   "outputs": [
    {
     "name": "stdout",
     "text": [
      "Col =  workclass\n",
      "Private             22696\nSelf-emp-not-inc     2541\nLocal-gov            2093\nState-gov            1298\nSelf-emp-inc         1116\nFederal-gov           960\nWithout-pay            14\nNever-worked            7\nName: workclass, dtype: int64\n=====================================\nCol =  education\nHS-grad         10501\nSome-college     7291\nBachelors        5355\nMasters          1723\nAssoc-voc        1382\n11th             1175\nAssoc-acdm       1067\n10th              933\n7th-8th           646\nProf-school       576\n9th               514\n12th              433\nDoctorate         413\n5th-6th           333\n1st-4th           168\nPreschool          51\nName: education, dtype: int64\n=====================================\nCol =  marital-status\nMarried-civ-spouse       14976\nNever-married            10683\nDivorced                  4443\nSeparated                 1025\nWidowed                    993\nMarried-spouse-absent      418\nMarried-AF-spouse           23\nName: marital-status, dtype: int64\n=====================================\nCol =  occupation\n",
      "Prof-specialty       4140\nCraft-repair         4099\nExec-managerial      4066\nAdm-clerical         3770\nSales                3650\nOther-service        3295\nMachine-op-inspct    2002\nTransport-moving     1597\nHandlers-cleaners    1370\nFarming-fishing       994\nTech-support          928\nProtective-serv       649\nPriv-house-serv       149\nArmed-Forces            9\nName: occupation, dtype: int64\n=====================================\nCol =  relationship\nHusband           13193\nNot-in-family      8305\nOwn-child          5068\nUnmarried          3446\nWife               1568\nOther-relative      981\nName: relationship, dtype: int64\n=====================================\nCol =  race\nWhite                 27816\nBlack                  3124\nAsian-Pac-Islander     1039\nAmer-Indian-Eskimo      311\nOther                   271\nName: race, dtype: int64\n=====================================\nCol =  sex\nMale      21790\nFemale    10771\nName: sex, dtype: int64\n=====================================\nCol =  native-country\nUnited-States                 29170\nMexico                          643\nPhilippines                     198\nGermany                         137\nCanada                          121\nPuerto-Rico                     114\nEl-Salvador                     106\nIndia                           100\nCuba                             95\nEngland                          90\nJamaica                          81\nSouth                            80\nChina                            75\nItaly                            73\nDominican-Republic               70\nVietnam                          67\nGuatemala                        64\nJapan                            62\nPoland                           60\nColumbia                         59\nTaiwan                           51\nHaiti                            44\nIran                             43\nPortugal                         37\nNicaragua                        34\nPeru                             31\nGreece                           29\nFrance                           29\nEcuador                          28\nIreland                          24\nHong                             20\nTrinadad&Tobago                  19\nCambodia                         19\nThailand                         18\nLaos                             18\nYugoslavia                       16\nOutlying-US(Guam-USVI-etc)       14\nHungary                          13\nHonduras                         13\nScotland                         12\nHoland-Netherlands                1\nName: native-country, dtype: int64\n=====================================\nCol =  income\n",
      "small    24720\nlarge     7841\nName: income, dtype: int64\n=====================================\n"
     ],
     "output_type": "stream"
    }
   ],
   "source": [
    "for col in category_cols:\n",
    "    print('Col = ', col)\n",
    "    print(master[col].value_counts())\n",
    "    print('=====================================')"
   ],
   "metadata": {
    "collapsed": false,
    "pycharm": {
     "name": "#%%\n",
     "is_executing": false
    }
   }
  },
  {
   "cell_type": "markdown",
   "source": [
    "#### Dummy coding"
   ],
   "metadata": {
    "collapsed": false
   }
  },
  {
   "cell_type": "code",
   "execution_count": 91,
   "outputs": [
    {
     "name": "stdout",
     "text": [
      "<class 'pandas.core.frame.DataFrame'>\nInt64Index: 32561 entries, 0 to 32560\nData columns (total 67 columns):\n #   Column                                Non-Null Count  Dtype \n---  ------                                --------------  ----- \n 0   age                                   32561 non-null  int64 \n 1   workclass                             30725 non-null  object\n 2   fnlwgt                                32561 non-null  int64 \n 3   education                             32561 non-null  object\n 4   education-num                         32561 non-null  int64 \n 5   marital-status                        32561 non-null  object\n 6   occupation                            30718 non-null  object\n 7   relationship                          32561 non-null  object\n 8   race                                  32561 non-null  object\n 9   sex                                   32561 non-null  object\n 10  capital-gain                          32561 non-null  int64 \n 11  capital-loss                          32561 non-null  int64 \n 12  hours-per-week                        32561 non-null  int64 \n 13  native-country                        31978 non-null  object\n 14  income                                32561 non-null  object\n 15  workclass_Federal-gov                 32561 non-null  uint8 \n 16  workclass_Local-gov                   32561 non-null  uint8 \n 17  workclass_Never-worked                32561 non-null  uint8 \n 18  workclass_Private                     32561 non-null  uint8 \n 19  workclass_Self-emp-inc                32561 non-null  uint8 \n 20  workclass_Self-emp-not-inc            32561 non-null  uint8 \n 21  workclass_State-gov                   32561 non-null  uint8 \n 22  workclass_Without-pay                 32561 non-null  uint8 \n 23  education_10th                        32561 non-null  uint8 \n 24  education_11th                        32561 non-null  uint8 \n 25  education_12th                        32561 non-null  uint8 \n 26  education_1st-4th                     32561 non-null  uint8 \n 27  education_5th-6th                     32561 non-null  uint8 \n 28  education_7th-8th                     32561 non-null  uint8 \n 29  education_9th                         32561 non-null  uint8 \n 30  education_Assoc-acdm                  32561 non-null  uint8 \n 31  education_Assoc-voc                   32561 non-null  uint8 \n 32  education_Bachelors                   32561 non-null  uint8 \n 33  education_Doctorate                   32561 non-null  uint8 \n 34  education_HS-grad                     32561 non-null  uint8 \n 35  education_Masters                     32561 non-null  uint8 \n 36  education_Preschool                   32561 non-null  uint8 \n 37  education_Prof-school                 32561 non-null  uint8 \n 38  education_Some-college                32561 non-null  uint8 \n 39  marital-status_Divorced               32561 non-null  uint8 \n 40  marital-status_Married-AF-spouse      32561 non-null  uint8 \n 41  marital-status_Married-civ-spouse     32561 non-null  uint8 \n 42  marital-status_Married-spouse-absent  32561 non-null  uint8 \n 43  marital-status_Never-married          32561 non-null  uint8 \n 44  marital-status_Separated              32561 non-null  uint8 \n 45  marital-status_Widowed                32561 non-null  uint8 \n 46  occupation_Adm-clerical               32561 non-null  uint8 \n 47  occupation_Armed-Forces               32561 non-null  uint8 \n 48  occupation_Craft-repair               32561 non-null  uint8 \n 49  occupation_Exec-managerial            32561 non-null  uint8 \n 50  occupation_Farming-fishing            32561 non-null  uint8 \n 51  occupation_Handlers-cleaners          32561 non-null  uint8 \n 52  occupation_Machine-op-inspct          32561 non-null  uint8 \n 53  occupation_Other-service              32561 non-null  uint8 \n 54  occupation_Priv-house-serv            32561 non-null  uint8 \n 55  occupation_Prof-specialty             32561 non-null  uint8 \n 56  occupation_Protective-serv            32561 non-null  uint8 \n 57  occupation_Sales                      32561 non-null  uint8 \n 58  occupation_Tech-support               32561 non-null  uint8 \n 59  occupation_Transport-moving           32561 non-null  uint8 \n 60  race_Amer-Indian-Eskimo               32561 non-null  uint8 \n 61  race_Asian-Pac-Islander               32561 non-null  uint8 \n 62  race_Black                            32561 non-null  uint8 \n 63  race_Other                            32561 non-null  uint8 \n 64  race_White                            32561 non-null  uint8 \n 65  sex_Female                            32561 non-null  uint8 \n 66  sex_Male                              32561 non-null  uint8 \ndtypes: int64(6), object(9), uint8(52)\nmemory usage: 5.6+ MB\n"
     ],
     "output_type": "stream"
    }
   ],
   "source": [
    "workclass = pd.get_dummies(pd.DataFrame({'workclass': master['workclass']}))\n",
    "master = pd.concat([master, workclass], axis=1)\n",
    "\n",
    "education = pd.get_dummies(pd.DataFrame({'education': master['education']}))\n",
    "master = pd.concat([master, education], axis=1)\n",
    "\n",
    "marital_status = pd.get_dummies(pd.DataFrame({'marital-status': master['marital-status']}))\n",
    "master = pd.concat([master, marital_status], axis=1)\n",
    "\n",
    "occupation = pd.get_dummies(pd.DataFrame({'occupation': master['occupation']}))\n",
    "master = pd.concat([master, occupation], axis=1)\n",
    "\n",
    "# relationship = pd.get_dummies(pd.DataFrame({'relationship': master['relationship']}))\n",
    "# master = pd.concat([master, relationship], axis=1)\n",
    "\n",
    "race = pd.get_dummies(pd.DataFrame({'race': master['race']}))\n",
    "master = pd.concat([master, race], axis=1)\n",
    "\n",
    "sex = pd.get_dummies(pd.DataFrame({'sex': master['sex']}))\n",
    "master = pd.concat([master, sex], axis=1)\n",
    "\n",
    "# income = pd.get_dummies(pd.DataFrame({'income': master['income']}))\n",
    "# master = pd.concat([master, income], axis=1)\n",
    "\n",
    "master.info()"
   ],
   "metadata": {
    "collapsed": false,
    "pycharm": {
     "name": "#%%\n",
     "is_executing": false
    }
   }
  },
  {
   "cell_type": "markdown",
   "source": [
    "#### Identify the predictor columns & target column"
   ],
   "metadata": {
    "collapsed": false
   }
  },
  {
   "cell_type": "code",
   "execution_count": 92,
   "outputs": [],
   "source": [
    "master_pred = master.drop(columns=['workclass', 'education', 'marital-status', 'occupation', 'relationship', \n",
    "        'race', 'sex', 'native-country', 'income'])\n",
    "master_target = master['income']"
   ],
   "metadata": {
    "collapsed": false,
    "pycharm": {
     "name": "#%%\n",
     "is_executing": false
    }
   }
  },
  {
   "cell_type": "markdown",
   "source": [
    "#### Split data into training and testing set"
   ],
   "metadata": {
    "collapsed": false
   }
  },
  {
   "cell_type": "code",
   "execution_count": 93,
   "outputs": [
    {
     "name": "stdout",
     "text": [
      "(26048, 58)\n(6513, 58)\n"
     ],
     "output_type": "stream"
    }
   ],
   "source": [
    "x_train, x_test, y_train, y_test = train_test_split(master_pred, master_target, test_size=.2)\n",
    "\n",
    "print(x_train.shape)\n",
    "print(x_test.shape)"
   ],
   "metadata": {
    "collapsed": false,
    "pycharm": {
     "name": "#%%\n",
     "is_executing": false
    }
   }
  },
  {
   "cell_type": "markdown",
   "source": [
    "#### Build the decision tree model"
   ],
   "metadata": {
    "collapsed": false
   }
  },
  {
   "cell_type": "code",
   "execution_count": 94,
   "outputs": [],
   "source": [
    "d_tree = DecisionTreeClassifier()\n",
    "model = d_tree.fit(x_train, y_train)\n",
    "y_pred = model.predict(x_test)"
   ],
   "metadata": {
    "collapsed": false,
    "pycharm": {
     "name": "#%%\n",
     "is_executing": false
    }
   }
  },
  {
   "cell_type": "markdown",
   "source": [
    "#### Build the decision tree model"
   ],
   "metadata": {
    "collapsed": false
   }
  },
  {
   "cell_type": "code",
   "execution_count": 95,
   "outputs": [
    {
     "name": "stdout",
     "text": [
      "Precision: 0.75\nRecall:  0.75\nF1-score:  0.75\n[[1022  589]\n [ 625 4277]]\n",
      "              precision    recall  f1-score   support\n\n       large       0.62      0.63      0.63      1611\n       small       0.88      0.87      0.88      4902\n\n    accuracy                           0.81      6513\n   macro avg       0.75      0.75      0.75      6513\nweighted avg       0.82      0.81      0.81      6513\n\n0.8136035621065562\n"
     ],
     "output_type": "stream"
    }
   ],
   "source": [
    "print(\"Precision: %0.2f\" %precision_score(y_test, y_pred , average=\"macro\"))\n",
    "print(\"Recall:  %0.2f\" %recall_score(y_test, y_pred , average=\"macro\"))\n",
    "print(\"F1-score:  %0.2f\" %f1_score(y_test, y_pred , average=\"macro\"))\n",
    "\n",
    "print(confusion_matrix(y_test, y_pred))\n",
    "print(classification_report(y_test, y_pred))\n",
    "print(accuracy_score(y_test, y_pred))"
   ],
   "metadata": {
    "collapsed": false,
    "pycharm": {
     "name": "#%%\n",
     "is_executing": false
    }
   }
  },
  {
   "cell_type": "markdown",
   "source": [
    "#### Displaying the decision tree"
   ],
   "metadata": {
    "collapsed": false
   }
  },
  {
   "cell_type": "code",
   "execution_count": 96,
   "outputs": [
    {
     "name": "stdout",
     "text": [
      "Graph file generated..\n"
     ],
     "output_type": "stream"
    }
   ],
   "source": [
    "tree.export_graphviz(model, out_file=pwd+'/uci_11.dot', feature_names=master_pred.columns)\n",
    "print('Graph file generated..')"
   ],
   "metadata": {
    "collapsed": false,
    "pycharm": {
     "name": "#%%\n",
     "is_executing": false
    }
   }
  },
  {
   "cell_type": "markdown",
   "source": [
    "#### Convert the graph file to pdf"
   ],
   "metadata": {
    "collapsed": false
   }
  },
  {
   "cell_type": "code",
   "execution_count": 97,
   "outputs": [
    {
     "name": "stdout",
     "text": [
      "Graph file converted to pdf..\n"
     ],
     "output_type": "stream"
    }
   ],
   "source": [
    "path: str = pwd + '/uci_11.dot'\n",
    "s = Source.from_file(path)\n",
    "s.view()\n",
    "print('Graph file converted to pdf..')\n"
   ],
   "metadata": {
    "collapsed": false,
    "pycharm": {
     "name": "#%%\n",
     "is_executing": false
    }
   }
  }
 ],
 "metadata": {
  "kernelspec": {
   "display_name": "Python 3",
   "language": "python",
   "name": "python3"
  },
  "language_info": {
   "codemirror_mode": {
    "name": "ipython",
    "version": 2
   },
   "file_extension": ".py",
   "mimetype": "text/x-python",
   "name": "python",
   "nbconvert_exporter": "python",
   "pygments_lexer": "ipython2",
   "version": "2.7.6"
  },
  "pycharm": {
   "stem_cell": {
    "cell_type": "raw",
    "source": [],
    "metadata": {
     "collapsed": false
    }
   }
  }
 },
 "nbformat": 4,
 "nbformat_minor": 0
}