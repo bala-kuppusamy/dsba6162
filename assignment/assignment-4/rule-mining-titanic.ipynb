{
 "cells": [
  {
   "cell_type": "code",
   "execution_count": 1,
   "metadata": {
    "pycharm": {
     "is_executing": false
    }
   },
   "outputs": [],
   "source": [
    "import os\n",
    "import Orange\n",
    "from orangecontrib.associate.fpgrowth import *"
   ]
  },
  {
   "cell_type": "code",
   "execution_count": 2,
   "outputs": [],
   "source": [
    "# the pwd assignment is needed for using it via docker.\n",
    "# absolute path as interpreted by the container has to be specified\n",
    "pwd: str = os.environ['HOME'] + '/work/assignment/assignment-4'"
   ],
   "metadata": {
    "collapsed": false,
    "pycharm": {
     "name": "#%%\n",
     "is_executing": false
    }
   }
  },
  {
   "cell_type": "code",
   "execution_count": 3,
   "metadata": {
    "pycharm": {
     "name": "#%%\n",
     "is_executing": false
    }
   },
   "outputs": [
    {
     "data": {
      "text/plain": "[Class, Sex, Age | Survived]"
     },
     "metadata": {},
     "output_type": "execute_result",
     "execution_count": 3
    }
   ],
   "source": [
    "titanic = Orange.data.Table(pwd + '/Titanic.csv')\n",
    "titanic.domain"
   ]
  },
  {
   "cell_type": "code",
   "execution_count": 4,
   "metadata": {
    "pycharm": {
     "name": "#%%\n",
     "is_executing": false
    }
   },
   "outputs": [
    {
     "data": {
      "text/plain": "(DiscreteVariable(name='Class', values=['1st', '2nd', '3rd', 'Crew']),\n DiscreteVariable(name='Sex', values=['Female', 'Male']),\n DiscreteVariable(name='Age', values=['Adult', 'Child']))"
     },
     "metadata": {},
     "output_type": "execute_result",
     "execution_count": 4
    }
   ],
   "source": [
    "titanic.domain.attributes"
   ]
  },
  {
   "cell_type": "code",
   "execution_count": 5,
   "metadata": {
    "pycharm": {
     "name": "#%%\n",
     "is_executing": false
    }
   },
   "outputs": [
    {
     "data": {
      "text/plain": "DiscreteVariable(name='Survived', values=['No', 'Yes'])"
     },
     "metadata": {},
     "output_type": "execute_result",
     "execution_count": 5
    }
   ],
   "source": [
    "titanic.domain.class_var"
   ]
  },
  {
   "cell_type": "markdown",
   "metadata": {},
   "source": [
    "#### Transform titanic into a table X that has “one-hot” vector for each of the 4 variables"
   ]
  },
  {
   "cell_type": "code",
   "execution_count": 6,
   "metadata": {
    "pycharm": {
     "name": "#%%\n",
     "is_executing": false
    }
   },
   "outputs": [],
   "source": [
    "X, mapping = OneHot.encode(titanic, include_class=True)"
   ]
  },
  {
   "cell_type": "code",
   "execution_count": 7,
   "metadata": {
    "pycharm": {
     "name": "#%%\n",
     "is_executing": false
    }
   },
   "outputs": [
    {
     "data": {
      "text/plain": "(2201, 10)"
     },
     "metadata": {},
     "output_type": "execute_result",
     "execution_count": 7
    }
   ],
   "source": [
    "X.shape"
   ]
  },
  {
   "cell_type": "code",
   "execution_count": 8,
   "metadata": {
    "pycharm": {
     "name": "#%%\n",
     "is_executing": false
    }
   },
   "outputs": [
    {
     "data": {
      "text/plain": "dict_items([(0, (0, 0)), (1, (0, 1)), (2, (0, 2)), (3, (0, 3)), (4, (1, 0)), (5, (1, 1)), (6, (2, 0)), (7, (2, 1)), (8, (3, 0)), (9, (3, 1))])"
     },
     "metadata": {},
     "output_type": "execute_result",
     "execution_count": 8
    }
   ],
   "source": [
    "mapping.items()"
   ]
  },
  {
   "cell_type": "markdown",
   "metadata": {},
   "source": [
    "#### Get the item names from the indices"
   ]
  },
  {
   "cell_type": "code",
   "execution_count": 9,
   "metadata": {
    "pycharm": {
     "name": "#%%\n",
     "is_executing": false
    }
   },
   "outputs": [
    {
     "data": {
      "text/plain": "{0: 'Class=1st',\n 1: 'Class=2nd',\n 2: 'Class=3rd',\n 3: 'Class=Crew',\n 4: 'Sex=Female',\n 5: 'Sex=Male',\n 6: 'Age=Adult',\n 7: 'Age=Child',\n 8: 'Survived=No',\n 9: 'Survived=Yes'}"
     },
     "metadata": {},
     "output_type": "execute_result",
     "execution_count": 9
    }
   ],
   "source": [
    "decoded_names = {item: '{}={}'.format(var.name, val)\n",
    "          for item, var, val in OneHot.decode(mapping, titanic, mapping)}\n",
    "decoded_names"
   ]
  },
  {
   "cell_type": "markdown",
   "metadata": {},
   "source": [
    "#### Look at the transformed target variable indices"
   ]
  },
  {
   "cell_type": "code",
   "execution_count": 10,
   "metadata": {
    "pycharm": {
     "name": "#%%\n",
     "is_executing": false
    }
   },
   "outputs": [
    {
     "data": {
      "text/plain": "{8, 9}"
     },
     "metadata": {},
     "output_type": "execute_result",
     "execution_count": 10
    }
   ],
   "source": [
    "decoded_class_names = {item \n",
    "               for item, var, _ in OneHot.decode(mapping, titanic, mapping) \n",
    "               if var is titanic.domain.class_var}\n",
    "decoded_class_names"
   ]
  },
  {
   "cell_type": "markdown",
   "metadata": {},
   "source": [
    "#### Mine the frequent patterns with support threshold as 0.1"
   ]
  },
  {
   "cell_type": "code",
   "execution_count": 11,
   "metadata": {
    "pycharm": {
     "name": "#%%\n",
     "is_executing": false
    }
   },
   "outputs": [
    {
     "data": {
      "text/plain": "35"
     },
     "metadata": {},
     "output_type": "execute_result",
     "execution_count": 11
    }
   ],
   "source": [
    "item_sets = dict(frequent_itemsets(X, .1))\n",
    "len(item_sets)"
   ]
  },
  {
   "cell_type": "code",
   "execution_count": 12,
   "metadata": {
    "pycharm": {
     "name": "#%%\n",
     "is_executing": false
    }
   },
   "outputs": [
    {
     "data": {
      "text/plain": "[frozenset({0}),\n frozenset({1}),\n frozenset({2}),\n frozenset({3}),\n frozenset({4}),\n frozenset({5}),\n frozenset({2, 5}),\n frozenset({3, 5}),\n frozenset({6}),\n frozenset({0, 6}),\n frozenset({1, 6}),\n frozenset({2, 6}),\n frozenset({3, 6}),\n frozenset({4, 6}),\n frozenset({5, 6}),\n frozenset({2, 5, 6}),\n frozenset({3, 5, 6}),\n frozenset({8}),\n frozenset({2, 8}),\n frozenset({3, 8}),\n frozenset({5, 8}),\n frozenset({2, 5, 8}),\n frozenset({3, 5, 8}),\n frozenset({6, 8}),\n frozenset({2, 6, 8}),\n frozenset({3, 6, 8}),\n frozenset({5, 6, 8}),\n frozenset({2, 5, 6, 8}),\n frozenset({3, 5, 6, 8}),\n frozenset({9}),\n frozenset({4, 9}),\n frozenset({5, 9}),\n frozenset({6, 9}),\n frozenset({4, 6, 9}),\n frozenset({5, 6, 9})]"
     },
     "metadata": {},
     "output_type": "execute_result",
     "execution_count": 12
    }
   ],
   "source": [
    "list(item_sets)"
   ]
  },
  {
   "cell_type": "markdown",
   "metadata": {},
   "source": [
    "#### Generate rules on top of item_sets with confidence threshold 0.7"
   ]
  },
  {
   "cell_type": "code",
   "execution_count": 13,
   "metadata": {
    "pycharm": {
     "name": "#%%\n",
     "is_executing": false
    }
   },
   "outputs": [
    {
     "data": {
      "text/plain": "[(frozenset({2, 5, 6}), frozenset({8}), 387, 0.8376623376623377),\n (frozenset({3, 5, 6}), frozenset({8}), 670, 0.777262180974478),\n (frozenset({2, 5}), frozenset({8}), 422, 0.8274509803921568),\n (frozenset({3, 5}), frozenset({8}), 670, 0.777262180974478),\n (frozenset({2, 6}), frozenset({8}), 476, 0.759170653907496),\n (frozenset({3, 6}), frozenset({8}), 673, 0.7604519774011299),\n (frozenset({5, 6}), frozenset({8}), 1329, 0.7972405518896221),\n (frozenset({4, 6}), frozenset({9}), 316, 0.7435294117647059),\n (frozenset({2}), frozenset({8}), 528, 0.7478753541076487),\n (frozenset({3}), frozenset({8}), 673, 0.7604519774011299),\n (frozenset({5}), frozenset({8}), 1364, 0.7879838243789717),\n (frozenset({4}), frozenset({9}), 344, 0.7319148936170212)]"
     },
     "metadata": {},
     "output_type": "execute_result",
     "execution_count": 13
    }
   ],
   "source": [
    "rules = [(P, Q, supp, conf)\n",
    "          for P, Q, supp, conf in association_rules(item_sets, .7)\n",
    "          if len(Q) == 1 and Q & decoded_class_names]\n",
    "rules"
   ]
  },
  {
   "cell_type": "markdown",
   "metadata": {},
   "source": [
    "#### Convert the indices in the rules to item names"
   ]
  },
  {
   "cell_type": "code",
   "execution_count": 14,
   "metadata": {
    "pycharm": {
     "name": "#%%\n",
     "is_executing": false
    }
   },
   "outputs": [
    {
     "name": "stdout",
     "text": [
      "Class=3rd, Sex=Male, Age=Adult --> Survived=No (supp: 387, conf: 0.8376623376623377)\nClass=Crew, Sex=Male, Age=Adult --> Survived=No (supp: 670, conf: 0.777262180974478)\nClass=3rd, Sex=Male --> Survived=No (supp: 422, conf: 0.8274509803921568)\nClass=Crew, Sex=Male --> Survived=No (supp: 670, conf: 0.777262180974478)\nClass=3rd, Age=Adult --> Survived=No (supp: 476, conf: 0.759170653907496)\nClass=Crew, Age=Adult --> Survived=No (supp: 673, conf: 0.7604519774011299)\nSex=Male, Age=Adult --> Survived=No (supp: 1329, conf: 0.7972405518896221)\nSex=Female, Age=Adult --> Survived=Yes (supp: 316, conf: 0.7435294117647059)\nClass=3rd --> Survived=No (supp: 528, conf: 0.7478753541076487)\nClass=Crew --> Survived=No (supp: 673, conf: 0.7604519774011299)\nSex=Male --> Survived=No (supp: 1364, conf: 0.7879838243789717)\nSex=Female --> Survived=Yes (supp: 344, conf: 0.7319148936170212)\n"
     ],
     "output_type": "stream"
    }
   ],
   "source": [
    "for ante, cons, supp, conf in rules:\n",
    "     print(', '.join(decoded_names[i] for i in ante), '-->',\n",
    "           decoded_names[next(iter(cons))],\n",
    "           '(supp: {}, conf: {})'.format(supp, conf))\n"
   ]
  }
 ],
 "metadata": {
  "kernelspec": {
   "display_name": "Python 3",
   "language": "python",
   "name": "python3"
  },
  "language_info": {
   "codemirror_mode": {
    "name": "ipython",
    "version": 3
   },
   "file_extension": ".py",
   "mimetype": "text/x-python",
   "name": "python",
   "nbconvert_exporter": "python",
   "pygments_lexer": "ipython3",
   "version": "3.7.4"
  },
  "pycharm": {
   "stem_cell": {
    "cell_type": "raw",
    "source": [],
    "metadata": {
     "collapsed": false
    }
   }
  }
 },
 "nbformat": 4,
 "nbformat_minor": 1
}