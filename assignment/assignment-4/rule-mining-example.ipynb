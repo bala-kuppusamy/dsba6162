{
 "cells": [
  {
   "cell_type": "code",
   "execution_count": 1,
   "metadata": {
    "pycharm": {
     "is_executing": false
    }
   },
   "outputs": [],
   "source": [
    "import Orange\n",
    "from orangecontrib.associate.fpgrowth import *"
   ]
  },
  {
   "cell_type": "code",
   "execution_count": 2,
   "metadata": {
    "pycharm": {
     "name": "#%%\n",
     "is_executing": false
    }
   },
   "outputs": [
    {
     "data": {
      "text/plain": "[hair, feathers, eggs, milk, airborne, aquatic, predator, toothed, backbone, breathes, venomous, fins, legs, tail, domestic, catsize | type] {name}"
     },
     "metadata": {},
     "output_type": "execute_result",
     "execution_count": 2
    }
   ],
   "source": [
    "zoo = Orange.data.Table('zoo')\n",
    "zoo.domain"
   ]
  },
  {
   "cell_type": "code",
   "execution_count": 3,
   "metadata": {
    "pycharm": {
     "is_executing": false
    }
   },
   "outputs": [
    {
     "data": {
      "text/plain": "(DiscreteVariable(name='hair', values=['0', '1']),\n DiscreteVariable(name='feathers', values=['0', '1']),\n DiscreteVariable(name='eggs', values=['0', '1']),\n DiscreteVariable(name='milk', values=['0', '1']),\n DiscreteVariable(name='airborne', values=['0', '1']),\n DiscreteVariable(name='aquatic', values=['0', '1']),\n DiscreteVariable(name='predator', values=['0', '1']),\n DiscreteVariable(name='toothed', values=['0', '1']),\n DiscreteVariable(name='backbone', values=['0', '1']),\n DiscreteVariable(name='breathes', values=['0', '1']),\n DiscreteVariable(name='venomous', values=['0', '1']),\n DiscreteVariable(name='fins', values=['0', '1']),\n DiscreteVariable(name='legs', values=['0', '2', '4', '5', '6', '8']),\n DiscreteVariable(name='tail', values=['0', '1']),\n DiscreteVariable(name='domestic', values=['0', '1']),\n DiscreteVariable(name='catsize', values=['0', '1']))"
     },
     "metadata": {},
     "output_type": "execute_result",
     "execution_count": 3
    }
   ],
   "source": [
    "zoo.domain.attributes"
   ]
  },
  {
   "cell_type": "code",
   "execution_count": 4,
   "metadata": {
    "pycharm": {
     "is_executing": false
    }
   },
   "outputs": [
    {
     "data": {
      "text/plain": "DiscreteVariable(name='type',\n                 values=['amphibian',\n                  'bird',\n                  'fish',\n                  'insect',\n                  'invertebrate',\n                  'mammal',\n                  'reptile'])"
     },
     "metadata": {},
     "output_type": "execute_result",
     "execution_count": 4
    }
   ],
   "source": [
    "zoo.domain.class_var"
   ]
  },
  {
   "cell_type": "markdown",
   "metadata": {},
   "source": [
    "#### Transform zoo into a table X that has “one-hot” vector for each of the 17 variables"
   ]
  },
  {
   "cell_type": "code",
   "execution_count": 5,
   "metadata": {
    "pycharm": {
     "is_executing": false
    }
   },
   "outputs": [],
   "source": [
    "X, mapping = OneHot.encode(zoo, include_class=True)"
   ]
  },
  {
   "cell_type": "code",
   "execution_count": 6,
   "metadata": {
    "pycharm": {
     "is_executing": false
    }
   },
   "outputs": [
    {
     "data": {
      "text/plain": "(101, 43)"
     },
     "metadata": {},
     "output_type": "execute_result",
     "execution_count": 6
    }
   ],
   "source": [
    "X.shape"
   ]
  },
  {
   "cell_type": "code",
   "execution_count": 7,
   "metadata": {
    "pycharm": {
     "is_executing": false
    }
   },
   "outputs": [
    {
     "data": {
      "text/plain": "dict_items([(0, (0, 0)), (1, (0, 1)), (2, (1, 0)), (3, (1, 1)), (4, (2, 0)), (5, (2, 1)), (6, (3, 0)), (7, (3, 1)), (8, (4, 0)), (9, (4, 1)), (10, (5, 0)), (11, (5, 1)), (12, (6, 0)), (13, (6, 1)), (14, (7, 0)), (15, (7, 1)), (16, (8, 0)), (17, (8, 1)), (18, (9, 0)), (19, (9, 1)), (20, (10, 0)), (21, (10, 1)), (22, (11, 0)), (23, (11, 1)), (24, (12, 0)), (25, (12, 1)), (26, (12, 2)), (27, (12, 3)), (28, (12, 4)), (29, (12, 5)), (30, (13, 0)), (31, (13, 1)), (32, (14, 0)), (33, (14, 1)), (34, (15, 0)), (35, (15, 1)), (36, (16, 0)), (37, (16, 1)), (38, (16, 2)), (39, (16, 3)), (40, (16, 4)), (41, (16, 5)), (42, (16, 6))])"
     },
     "metadata": {},
     "output_type": "execute_result",
     "execution_count": 7
    }
   ],
   "source": [
    "mapping.items()"
   ]
  },
  {
   "cell_type": "markdown",
   "metadata": {},
   "source": [
    "#### Mine the frequent patterns with support threshold as 0.4"
   ]
  },
  {
   "cell_type": "code",
   "execution_count": 8,
   "metadata": {
    "pycharm": {
     "is_executing": false
    }
   },
   "outputs": [
    {
     "data": {
      "text/plain": "520"
     },
     "metadata": {},
     "output_type": "execute_result",
     "execution_count": 8
    }
   ],
   "source": [
    "itemsets = dict(frequent_itemsets(X, .4))\n",
    "len(itemsets)"
   ]
  },
  {
   "cell_type": "code",
   "execution_count": 9,
   "metadata": {
    "pycharm": {
     "is_executing": false
    }
   },
   "outputs": [
    {
     "data": {
      "text/plain": "[frozenset({20}),\n frozenset({32}),\n frozenset({20, 32}),\n frozenset({22}),\n frozenset({20, 22}),\n frozenset({22, 32}),\n frozenset({20, 22, 32}),\n frozenset({17}),\n frozenset({17, 20}),\n frozenset({17, 22}),\n frozenset({17, 20, 22}),\n frozenset({17, 32}),\n frozenset({17, 20, 32}),\n frozenset({17, 22, 32}),\n frozenset({17, 20, 22, 32}),\n frozenset({2}),\n frozenset({2, 17}),\n frozenset({2, 20}),\n frozenset({2, 17, 20}),\n frozenset({2, 22}),\n frozenset({2, 17, 22}),\n frozenset({2, 20, 22}),\n frozenset({2, 17, 20, 22}),\n frozenset({2, 32}),\n frozenset({2, 17, 32}),\n frozenset({2, 20, 32}),\n frozenset({2, 17, 20, 32}),\n frozenset({2, 22, 32}),\n frozenset({2, 20, 22, 32}),\n frozenset({19}),\n frozenset({2, 19}),\n frozenset({17, 19}),\n frozenset({2, 17, 19}),\n frozenset({19, 20}),\n frozenset({2, 19, 20}),\n frozenset({17, 19, 20}),\n frozenset({2, 17, 19, 20}),\n frozenset({19, 22}),\n frozenset({2, 19, 22}),\n frozenset({17, 19, 22}),\n frozenset({2, 17, 19, 22}),\n frozenset({19, 20, 22}),\n frozenset({2, 19, 20, 22}),\n frozenset({17, 19, 20, 22}),\n frozenset({2, 17, 19, 20, 22}),\n frozenset({19, 32}),\n frozenset({2, 19, 32}),\n frozenset({17, 19, 32}),\n frozenset({2, 17, 19, 32}),\n frozenset({19, 20, 32}),\n frozenset({2, 19, 20, 32}),\n frozenset({17, 19, 20, 32}),\n frozenset({19, 22, 32}),\n frozenset({2, 19, 22, 32}),\n frozenset({17, 19, 22, 32}),\n frozenset({19, 20, 22, 32}),\n frozenset({2, 19, 20, 22, 32}),\n frozenset({17, 19, 20, 22, 32}),\n frozenset({8}),\n frozenset({2, 8}),\n frozenset({8, 17}),\n frozenset({2, 8, 17}),\n frozenset({8, 19}),\n frozenset({2, 8, 19}),\n frozenset({8, 17, 19}),\n frozenset({2, 8, 17, 19}),\n frozenset({8, 20}),\n frozenset({2, 8, 20}),\n frozenset({8, 17, 20}),\n frozenset({2, 8, 17, 20}),\n frozenset({8, 19, 20}),\n frozenset({2, 8, 19, 20}),\n frozenset({8, 17, 19, 20}),\n frozenset({2, 8, 17, 19, 20}),\n frozenset({8, 22}),\n frozenset({2, 8, 22}),\n frozenset({8, 17, 22}),\n frozenset({2, 8, 17, 22}),\n frozenset({8, 19, 22}),\n frozenset({2, 8, 19, 22}),\n frozenset({8, 17, 19, 22}),\n frozenset({2, 8, 17, 19, 22}),\n frozenset({8, 20, 22}),\n frozenset({2, 8, 20, 22}),\n frozenset({8, 17, 20, 22}),\n frozenset({2, 8, 17, 20, 22}),\n frozenset({8, 19, 20, 22}),\n frozenset({2, 8, 19, 20, 22}),\n frozenset({8, 17, 19, 20, 22}),\n frozenset({2, 8, 17, 19, 20, 22}),\n frozenset({8, 32}),\n frozenset({2, 8, 32}),\n frozenset({8, 17, 32}),\n frozenset({2, 8, 17, 32}),\n frozenset({8, 19, 32}),\n frozenset({2, 8, 19, 32}),\n frozenset({8, 17, 19, 32}),\n frozenset({8, 20, 32}),\n frozenset({2, 8, 20, 32}),\n frozenset({8, 17, 20, 32}),\n frozenset({2, 8, 17, 20, 32}),\n frozenset({8, 19, 20, 32}),\n frozenset({2, 8, 19, 20, 32}),\n frozenset({8, 17, 19, 20, 32}),\n frozenset({8, 22, 32}),\n frozenset({2, 8, 22, 32}),\n frozenset({8, 19, 22, 32}),\n frozenset({8, 20, 22, 32}),\n frozenset({2, 8, 20, 22, 32}),\n frozenset({8, 19, 20, 22, 32}),\n frozenset({31}),\n frozenset({2, 31}),\n frozenset({8, 31}),\n frozenset({2, 8, 31}),\n frozenset({17, 31}),\n frozenset({2, 17, 31}),\n frozenset({8, 17, 31}),\n frozenset({2, 8, 17, 31}),\n frozenset({19, 31}),\n frozenset({2, 19, 31}),\n frozenset({8, 19, 31}),\n frozenset({17, 19, 31}),\n frozenset({8, 17, 19, 31}),\n frozenset({20, 31}),\n frozenset({2, 20, 31}),\n frozenset({8, 20, 31}),\n frozenset({2, 8, 20, 31}),\n frozenset({17, 20, 31}),\n frozenset({2, 17, 20, 31}),\n frozenset({8, 17, 20, 31}),\n frozenset({2, 8, 17, 20, 31}),\n frozenset({19, 20, 31}),\n frozenset({8, 19, 20, 31}),\n frozenset({17, 19, 20, 31}),\n frozenset({8, 17, 19, 20, 31}),\n frozenset({22, 31}),\n frozenset({8, 22, 31}),\n frozenset({17, 22, 31}),\n frozenset({19, 22, 31}),\n frozenset({17, 19, 22, 31}),\n frozenset({20, 22, 31}),\n frozenset({17, 20, 22, 31}),\n frozenset({19, 20, 22, 31}),\n frozenset({17, 19, 20, 22, 31}),\n frozenset({31, 32}),\n frozenset({2, 31, 32}),\n frozenset({8, 31, 32}),\n frozenset({2, 8, 31, 32}),\n frozenset({17, 31, 32}),\n frozenset({2, 17, 31, 32}),\n frozenset({8, 17, 31, 32}),\n frozenset({2, 8, 17, 31, 32}),\n frozenset({19, 31, 32}),\n frozenset({17, 19, 31, 32}),\n frozenset({20, 31, 32}),\n frozenset({2, 20, 31, 32}),\n frozenset({8, 20, 31, 32}),\n frozenset({2, 8, 20, 31, 32}),\n frozenset({17, 20, 31, 32}),\n frozenset({2, 17, 20, 31, 32}),\n frozenset({8, 17, 20, 31, 32}),\n frozenset({2, 8, 17, 20, 31, 32}),\n frozenset({19, 20, 31, 32}),\n frozenset({17, 19, 20, 31, 32}),\n frozenset({22, 31, 32}),\n frozenset({17, 22, 31, 32}),\n frozenset({19, 22, 31, 32}),\n frozenset({17, 19, 22, 31, 32}),\n frozenset({20, 22, 31, 32}),\n frozenset({17, 20, 22, 31, 32}),\n frozenset({19, 20, 22, 31, 32}),\n frozenset({17, 19, 20, 22, 31, 32}),\n frozenset({10}),\n frozenset({2, 10}),\n frozenset({8, 10}),\n frozenset({2, 8, 10}),\n frozenset({10, 17}),\n frozenset({10, 19}),\n frozenset({2, 10, 19}),\n frozenset({8, 10, 19}),\n frozenset({2, 8, 10, 19}),\n frozenset({10, 17, 19}),\n frozenset({10, 20}),\n frozenset({2, 10, 20}),\n frozenset({8, 10, 20}),\n frozenset({2, 8, 10, 20}),\n frozenset({10, 17, 20}),\n frozenset({10, 19, 20}),\n frozenset({2, 10, 19, 20}),\n frozenset({8, 10, 19, 20}),\n frozenset({10, 17, 19, 20}),\n frozenset({10, 22}),\n frozenset({2, 10, 22}),\n frozenset({8, 10, 22}),\n frozenset({2, 8, 10, 22}),\n frozenset({10, 17, 22}),\n frozenset({10, 19, 22}),\n frozenset({2, 10, 19, 22}),\n frozenset({8, 10, 19, 22}),\n frozenset({2, 8, 10, 19, 22}),\n frozenset({10, 17, 19, 22}),\n frozenset({10, 20, 22}),\n frozenset({2, 10, 20, 22}),\n frozenset({8, 10, 20, 22}),\n frozenset({2, 8, 10, 20, 22}),\n frozenset({10, 17, 20, 22}),\n frozenset({10, 19, 20, 22}),\n frozenset({2, 10, 19, 20, 22}),\n frozenset({8, 10, 19, 20, 22}),\n frozenset({10, 17, 19, 20, 22}),\n frozenset({10, 31}),\n frozenset({10, 17, 31}),\n frozenset({10, 19, 31}),\n frozenset({10, 17, 19, 31}),\n frozenset({10, 20, 31}),\n frozenset({10, 17, 20, 31}),\n frozenset({10, 19, 20, 31}),\n frozenset({10, 17, 19, 20, 31}),\n frozenset({10, 22, 31}),\n frozenset({10, 17, 22, 31}),\n frozenset({10, 19, 22, 31}),\n frozenset({10, 17, 19, 22, 31}),\n frozenset({10, 20, 22, 31}),\n frozenset({10, 17, 20, 22, 31}),\n frozenset({10, 19, 20, 22, 31}),\n frozenset({10, 17, 19, 20, 22, 31}),\n frozenset({10, 32}),\n frozenset({2, 10, 32}),\n frozenset({10, 17, 32}),\n frozenset({10, 19, 32}),\n frozenset({2, 10, 19, 32}),\n frozenset({10, 17, 19, 32}),\n frozenset({10, 20, 32}),\n frozenset({10, 17, 20, 32}),\n frozenset({10, 19, 20, 32}),\n frozenset({10, 17, 19, 20, 32}),\n frozenset({10, 22, 32}),\n frozenset({2, 10, 22, 32}),\n frozenset({10, 17, 22, 32}),\n frozenset({10, 19, 22, 32}),\n frozenset({2, 10, 19, 22, 32}),\n frozenset({10, 17, 19, 22, 32}),\n frozenset({10, 20, 22, 32}),\n frozenset({10, 17, 20, 22, 32}),\n frozenset({10, 19, 20, 22, 32}),\n frozenset({10, 17, 19, 20, 22, 32}),\n frozenset({15}),\n frozenset({2, 15}),\n frozenset({8, 15}),\n frozenset({2, 8, 15}),\n frozenset({15, 17}),\n frozenset({2, 15, 17}),\n frozenset({8, 15, 17}),\n frozenset({2, 8, 15, 17}),\n frozenset({15, 19}),\n frozenset({2, 15, 19}),\n frozenset({8, 15, 19}),\n frozenset({2, 8, 15, 19}),\n frozenset({15, 17, 19}),\n frozenset({2, 15, 17, 19}),\n frozenset({8, 15, 17, 19}),\n frozenset({2, 8, 15, 17, 19}),\n frozenset({15, 20}),\n frozenset({2, 15, 20}),\n frozenset({8, 15, 20}),\n frozenset({2, 8, 15, 20}),\n frozenset({15, 17, 20}),\n frozenset({2, 15, 17, 20}),\n frozenset({8, 15, 17, 20}),\n frozenset({2, 8, 15, 17, 20}),\n frozenset({15, 19, 20}),\n frozenset({2, 15, 19, 20}),\n frozenset({8, 15, 19, 20}),\n frozenset({2, 8, 15, 19, 20}),\n frozenset({15, 17, 19, 20}),\n frozenset({2, 15, 17, 19, 20}),\n frozenset({8, 15, 17, 19, 20}),\n frozenset({2, 8, 15, 17, 19, 20}),\n frozenset({15, 22}),\n frozenset({2, 15, 22}),\n frozenset({8, 15, 22}),\n frozenset({2, 8, 15, 22}),\n frozenset({15, 17, 22}),\n frozenset({2, 15, 17, 22}),\n frozenset({8, 15, 17, 22}),\n frozenset({2, 8, 15, 17, 22}),\n frozenset({15, 19, 22}),\n frozenset({2, 15, 19, 22}),\n frozenset({8, 15, 19, 22}),\n frozenset({2, 8, 15, 19, 22}),\n frozenset({15, 17, 19, 22}),\n frozenset({2, 15, 17, 19, 22}),\n frozenset({8, 15, 17, 19, 22}),\n frozenset({2, 8, 15, 17, 19, 22}),\n frozenset({15, 20, 22}),\n frozenset({2, 15, 20, 22}),\n frozenset({15, 17, 20, 22}),\n frozenset({2, 15, 17, 20, 22}),\n frozenset({15, 19, 20, 22}),\n frozenset({2, 15, 19, 20, 22}),\n frozenset({15, 17, 19, 20, 22}),\n frozenset({2, 15, 17, 19, 20, 22}),\n frozenset({15, 31}),\n frozenset({2, 15, 31}),\n frozenset({8, 15, 31}),\n frozenset({2, 8, 15, 31}),\n frozenset({15, 17, 31}),\n frozenset({2, 15, 17, 31}),\n frozenset({8, 15, 17, 31}),\n frozenset({2, 8, 15, 17, 31}),\n frozenset({15, 20, 31}),\n frozenset({2, 15, 20, 31}),\n frozenset({8, 15, 20, 31}),\n frozenset({2, 8, 15, 20, 31}),\n frozenset({15, 17, 20, 31}),\n frozenset({2, 15, 17, 20, 31}),\n frozenset({8, 15, 17, 20, 31}),\n frozenset({2, 8, 15, 17, 20, 31}),\n frozenset({15, 32}),\n frozenset({2, 15, 32}),\n frozenset({8, 15, 32}),\n frozenset({2, 8, 15, 32}),\n frozenset({15, 17, 32}),\n frozenset({2, 15, 17, 32}),\n frozenset({8, 15, 17, 32}),\n frozenset({2, 8, 15, 17, 32}),\n frozenset({15, 20, 32}),\n frozenset({2, 15, 20, 32}),\n frozenset({8, 15, 20, 32}),\n frozenset({2, 8, 15, 20, 32}),\n frozenset({15, 17, 20, 32}),\n frozenset({2, 15, 17, 20, 32}),\n frozenset({8, 15, 17, 20, 32}),\n frozenset({2, 8, 15, 17, 20, 32}),\n frozenset({15, 31, 32}),\n frozenset({2, 15, 31, 32}),\n frozenset({8, 15, 31, 32}),\n frozenset({2, 8, 15, 31, 32}),\n frozenset({15, 17, 31, 32}),\n frozenset({2, 15, 17, 31, 32}),\n frozenset({8, 15, 17, 31, 32}),\n frozenset({2, 8, 15, 17, 31, 32}),\n frozenset({15, 20, 31, 32}),\n frozenset({2, 15, 20, 31, 32}),\n frozenset({15, 17, 20, 31, 32}),\n frozenset({2, 15, 17, 20, 31, 32}),\n frozenset({6}),\n frozenset({6, 17}),\n frozenset({6, 20}),\n frozenset({6, 22}),\n frozenset({6, 32}),\n frozenset({6, 20, 32}),\n frozenset({6, 22, 32}),\n frozenset({5}),\n frozenset({5, 6}),\n frozenset({5, 17}),\n frozenset({5, 6, 17}),\n frozenset({5, 20}),\n frozenset({5, 6, 20}),\n frozenset({5, 22}),\n frozenset({5, 6, 22}),\n frozenset({5, 20, 22}),\n frozenset({5, 32}),\n frozenset({5, 6, 32}),\n frozenset({5, 20, 32}),\n frozenset({5, 6, 20, 32}),\n frozenset({5, 22, 32}),\n frozenset({5, 6, 22, 32}),\n frozenset({0}),\n frozenset({0, 5}),\n frozenset({0, 6}),\n frozenset({0, 5, 6}),\n frozenset({0, 17}),\n frozenset({0, 5, 17}),\n frozenset({0, 6, 17}),\n frozenset({0, 5, 6, 17}),\n frozenset({0, 20}),\n frozenset({0, 5, 20}),\n frozenset({0, 6, 20}),\n frozenset({0, 5, 6, 20}),\n frozenset({0, 22}),\n frozenset({0, 5, 22}),\n frozenset({0, 6, 22}),\n frozenset({0, 5, 6, 22}),\n frozenset({0, 31}),\n frozenset({0, 17, 31}),\n frozenset({0, 32}),\n frozenset({0, 5, 32}),\n frozenset({0, 6, 32}),\n frozenset({0, 5, 6, 32}),\n frozenset({0, 20, 32}),\n frozenset({0, 5, 20, 32}),\n frozenset({0, 6, 20, 32}),\n frozenset({0, 5, 6, 20, 32}),\n frozenset({34}),\n frozenset({0, 34}),\n frozenset({2, 34}),\n frozenset({5, 34}),\n frozenset({0, 5, 34}),\n frozenset({6, 34}),\n frozenset({0, 6, 34}),\n frozenset({5, 6, 34}),\n frozenset({0, 5, 6, 34}),\n frozenset({19, 34}),\n frozenset({20, 34}),\n frozenset({5, 20, 34}),\n frozenset({6, 20, 34}),\n frozenset({5, 6, 20, 34}),\n frozenset({22, 34}),\n frozenset({19, 22, 34}),\n frozenset({20, 22, 34}),\n frozenset({32, 34}),\n frozenset({5, 32, 34}),\n frozenset({6, 32, 34}),\n frozenset({5, 6, 32, 34}),\n frozenset({20, 32, 34}),\n frozenset({22, 32, 34}),\n frozenset({13}),\n frozenset({2, 13}),\n frozenset({8, 13}),\n frozenset({2, 8, 13}),\n frozenset({13, 17}),\n frozenset({8, 13, 17}),\n frozenset({13, 20}),\n frozenset({2, 13, 20}),\n frozenset({8, 13, 20}),\n frozenset({13, 17, 20}),\n frozenset({13, 22}),\n frozenset({13, 31}),\n frozenset({13, 17, 31}),\n frozenset({13, 32}),\n frozenset({2, 13, 32}),\n frozenset({8, 13, 32}),\n frozenset({2, 8, 13, 32}),\n frozenset({13, 17, 32}),\n frozenset({13, 20, 32}),\n frozenset({8, 13, 20, 32}),\n frozenset({13, 17, 20, 32}),\n frozenset({13, 22, 32}),\n frozenset({13, 31, 32}),\n frozenset({12}),\n frozenset({12, 19}),\n frozenset({12, 20}),\n frozenset({12, 22}),\n frozenset({12, 19, 22}),\n frozenset({35}),\n frozenset({8, 35}),\n frozenset({17, 35}),\n frozenset({20, 35}),\n frozenset({17, 20, 35}),\n frozenset({1}),\n frozenset({1, 2}),\n frozenset({1, 19}),\n frozenset({1, 2, 19}),\n frozenset({1, 20}),\n frozenset({1, 2, 20}),\n frozenset({1, 19, 20}),\n frozenset({1, 2, 19, 20}),\n frozenset({1, 22}),\n frozenset({1, 2, 22}),\n frozenset({1, 19, 22}),\n frozenset({1, 2, 19, 22}),\n frozenset({4}),\n frozenset({2, 4}),\n frozenset({4, 15}),\n frozenset({2, 4, 15}),\n frozenset({4, 17}),\n frozenset({2, 4, 17}),\n frozenset({4, 15, 17}),\n frozenset({2, 4, 15, 17}),\n frozenset({4, 19}),\n frozenset({2, 4, 19}),\n frozenset({7}),\n frozenset({2, 7}),\n frozenset({7, 17}),\n frozenset({2, 7, 17}),\n frozenset({7, 19}),\n frozenset({2, 7, 19}),\n frozenset({7, 17, 19}),\n frozenset({2, 7, 17, 19}),\n frozenset({7, 20}),\n frozenset({2, 7, 20}),\n frozenset({7, 17, 20}),\n frozenset({2, 7, 17, 20}),\n frozenset({7, 19, 20}),\n frozenset({2, 7, 19, 20}),\n frozenset({7, 17, 19, 20}),\n frozenset({2, 7, 17, 19, 20}),\n frozenset({41}),\n frozenset({2, 41}),\n frozenset({7, 41}),\n frozenset({2, 7, 41}),\n frozenset({17, 41}),\n frozenset({2, 17, 41}),\n frozenset({7, 17, 41}),\n frozenset({2, 7, 17, 41}),\n frozenset({19, 41}),\n frozenset({2, 19, 41}),\n frozenset({7, 19, 41}),\n frozenset({2, 7, 19, 41}),\n frozenset({17, 19, 41}),\n frozenset({2, 17, 19, 41}),\n frozenset({7, 17, 19, 41}),\n frozenset({2, 7, 17, 19, 41}),\n frozenset({20, 41}),\n frozenset({2, 20, 41}),\n frozenset({7, 20, 41}),\n frozenset({2, 7, 20, 41}),\n frozenset({17, 20, 41}),\n frozenset({2, 17, 20, 41}),\n frozenset({7, 17, 20, 41}),\n frozenset({2, 7, 17, 20, 41}),\n frozenset({19, 20, 41}),\n frozenset({2, 19, 20, 41}),\n frozenset({7, 19, 20, 41}),\n frozenset({2, 7, 19, 20, 41}),\n frozenset({17, 19, 20, 41}),\n frozenset({2, 17, 19, 20, 41}),\n frozenset({7, 17, 19, 20, 41}),\n frozenset({2, 7, 17, 19, 20, 41})]"
     },
     "metadata": {},
     "output_type": "execute_result",
     "execution_count": 9
    }
   ],
   "source": [
    "list(itemsets)"
   ]
  },
  {
   "cell_type": "markdown",
   "metadata": {},
   "source": [
    "#### Get the item names from the indices"
   ]
  },
  {
   "cell_type": "code",
   "execution_count": 10,
   "metadata": {
    "pycharm": {
     "is_executing": false
    }
   },
   "outputs": [
    {
     "data": {
      "text/plain": "{0: 'hair=0',\n 1: 'hair=1',\n 2: 'feathers=0',\n 3: 'feathers=1',\n 4: 'eggs=0',\n 5: 'eggs=1',\n 6: 'milk=0',\n 7: 'milk=1',\n 8: 'airborne=0',\n 9: 'airborne=1',\n 10: 'aquatic=0',\n 11: 'aquatic=1',\n 12: 'predator=0',\n 13: 'predator=1',\n 14: 'toothed=0',\n 15: 'toothed=1',\n 16: 'backbone=0',\n 17: 'backbone=1',\n 18: 'breathes=0',\n 19: 'breathes=1',\n 20: 'venomous=0',\n 21: 'venomous=1',\n 22: 'fins=0',\n 23: 'fins=1',\n 24: 'legs=0',\n 25: 'legs=2',\n 26: 'legs=4',\n 27: 'legs=5',\n 28: 'legs=6',\n 29: 'legs=8',\n 30: 'tail=0',\n 31: 'tail=1',\n 32: 'domestic=0',\n 33: 'domestic=1',\n 34: 'catsize=0',\n 35: 'catsize=1',\n 36: 'type=amphibian',\n 37: 'type=bird',\n 38: 'type=fish',\n 39: 'type=insect',\n 40: 'type=invertebrate',\n 41: 'type=mammal',\n 42: 'type=reptile'}"
     },
     "metadata": {},
     "output_type": "execute_result",
     "execution_count": 10
    }
   ],
   "source": [
    "names = {item: '{}={}'.format(var.name, val)\n",
    "          for item, var, val in OneHot.decode(mapping, zoo, mapping)}\n",
    "names"
   ]
  },
  {
   "cell_type": "markdown",
   "metadata": {},
   "source": [
    "#### Look at the transformed target variable indices"
   ]
  },
  {
   "cell_type": "code",
   "execution_count": 11,
   "metadata": {
    "pycharm": {
     "is_executing": false
    }
   },
   "outputs": [
    {
     "data": {
      "text/plain": "{36, 37, 38, 39, 40, 41, 42}"
     },
     "metadata": {},
     "output_type": "execute_result",
     "execution_count": 11
    }
   ],
   "source": [
    "class_items = {item\n",
    "                for item, var, _ in OneHot.decode(mapping, zoo, mapping)\n",
    "                if var is zoo.domain.class_var}\n",
    "class_items"
   ]
  },
  {
   "cell_type": "markdown",
   "metadata": {},
   "source": [
    "#### Generate rules on top of itemsets with confidence threshold 0.8"
   ]
  },
  {
   "cell_type": "code",
   "execution_count": 12,
   "metadata": {
    "pycharm": {
     "is_executing": false
    }
   },
   "outputs": [
    {
     "data": {
      "text/plain": "[(frozenset({2, 7, 17, 19, 20}), frozenset({41}), 41, 1.0),\n (frozenset({2, 7, 17, 19}), frozenset({41}), 41, 1.0),\n (frozenset({2, 7, 17, 20}), frozenset({41}), 41, 1.0),\n (frozenset({2, 7, 19, 20}), frozenset({41}), 41, 1.0),\n (frozenset({2, 17, 19, 20}), frozenset({41}), 41, 0.8723404255319149),\n (frozenset({7, 17, 19, 20}), frozenset({41}), 41, 1.0),\n (frozenset({2, 7, 17}), frozenset({41}), 41, 1.0),\n (frozenset({2, 7, 19}), frozenset({41}), 41, 1.0),\n (frozenset({2, 17, 19}), frozenset({41}), 41, 0.8367346938775511),\n (frozenset({7, 17, 19}), frozenset({41}), 41, 1.0),\n (frozenset({2, 7, 20}), frozenset({41}), 41, 1.0),\n (frozenset({7, 17, 20}), frozenset({41}), 41, 1.0),\n (frozenset({7, 19, 20}), frozenset({41}), 41, 1.0),\n (frozenset({2, 7}), frozenset({41}), 41, 1.0),\n (frozenset({7, 17}), frozenset({41}), 41, 1.0),\n (frozenset({7, 19}), frozenset({41}), 41, 1.0),\n (frozenset({7, 20}), frozenset({41}), 41, 1.0),\n (frozenset({7}), frozenset({41}), 41, 1.0)]"
     },
     "metadata": {},
     "output_type": "execute_result",
     "execution_count": 12
    }
   ],
   "source": [
    "rules = [(P, Q, supp, conf)\n",
    "          for P, Q, supp, conf in association_rules(itemsets, .8)\n",
    "          if len(Q) == 1 and Q & class_items]\n",
    "rules"
   ]
  },
  {
   "cell_type": "markdown",
   "metadata": {},
   "source": [
    "#### Convert the indices in the rules to item names"
   ]
  },
  {
   "cell_type": "code",
   "execution_count": 13,
   "metadata": {
    "pycharm": {
     "name": "#%%\n",
     "is_executing": false
    }
   },
   "outputs": [
    {
     "name": "stdout",
     "text": [
      "feathers=0, milk=1, backbone=1, breathes=1, venomous=0 --> type=mammal (supp: 41, conf: 1.0)\nbackbone=1, feathers=0, breathes=1, milk=1 --> type=mammal (supp: 41, conf: 1.0)\nbackbone=1, feathers=0, venomous=0, milk=1 --> type=mammal (supp: 41, conf: 1.0)\nfeathers=0, breathes=1, venomous=0, milk=1 --> type=mammal (supp: 41, conf: 1.0)\nbackbone=1, feathers=0, breathes=1, venomous=0 --> type=mammal (supp: 41, conf: 0.8723404255319149)\n"
     ],
     "output_type": "stream"
    }
   ],
   "source": [
    "for ante, cons, supp, conf in rules[:5]:\n",
    "     print(', '.join(names[i] for i in ante), '-->',\n",
    "           names[next(iter(cons))],\n",
    "           '(supp: {}, conf: {})'.format(supp, conf))\n"
   ]
  }
 ],
 "metadata": {
  "kernelspec": {
   "display_name": "Python 3",
   "language": "python",
   "name": "python3"
  },
  "language_info": {
   "codemirror_mode": {
    "name": "ipython",
    "version": 3
   },
   "file_extension": ".py",
   "mimetype": "text/x-python",
   "name": "python",
   "nbconvert_exporter": "python",
   "pygments_lexer": "ipython3",
   "version": "3.7.4"
  },
  "pycharm": {
   "stem_cell": {
    "cell_type": "raw",
    "source": [],
    "metadata": {
     "collapsed": false
    }
   }
  }
 },
 "nbformat": 4,
 "nbformat_minor": 1
}