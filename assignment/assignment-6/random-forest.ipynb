{
 "cells": [
  {
   "cell_type": "code",
   "execution_count": 1,
   "metadata": {
    "collapsed": true,
    "pycharm": {
     "is_executing": false
    }
   },
   "outputs": [],
   "source": [
    "import os\n",
    "import pandas as pd\n",
    "from pandas import DataFrame\n",
    "import numpy as np\n",
    "\n",
    "import seaborn as sns\n",
    "sns.set(style=\"ticks\", palette=\"muted\")\n",
    "\n",
    "from sklearn.ensemble import RandomForestClassifier\n",
    "from sklearn.naive_bayes import GaussianNB\n",
    "from sklearn.neighbors import KNeighborsClassifier\n",
    "\n",
    "from sklearn.model_selection import train_test_split\n",
    "from sklearn.metrics import (f1_score, precision_score, recall_score, confusion_matrix, classification_report, \n",
    "                             accuracy_score)\n",
    "\n",
    "from sklearn.preprocessing import LabelEncoder\n",
    "le = LabelEncoder()"
   ]
  },
  {
   "cell_type": "markdown",
   "source": [
    "#### Define functions"
   ],
   "metadata": {
    "collapsed": false
   }
  },
  {
   "cell_type": "code",
   "execution_count": 35,
   "outputs": [],
   "source": [
    "def evaluate_model(_y_test: DataFrame, _y_pred: DataFrame) -> None:\n",
    "    print(\"Accuracy:  %0.2f\" %accuracy_score(_y_test, _y_pred))\n",
    "    print(\"Precision: %0.2f\" %precision_score(_y_test, _y_pred , average=\"macro\"))\n",
    "    print(\"Recall:  %0.2f\" %recall_score(_y_test, _y_pred , average=\"macro\"))\n",
    "    print(\"F1-score:  %0.2f\" %f1_score(_y_test, _y_pred , average=\"macro\"))\n",
    "    \n",
    "    print(confusion_matrix(_y_test, _y_pred))\n",
    "    print(classification_report(_y_test, _y_pred))"
   ],
   "metadata": {
    "collapsed": false,
    "pycharm": {
     "name": "#%%\n",
     "is_executing": false
    }
   }
  },
  {
   "cell_type": "code",
   "execution_count": 2,
   "metadata": {
    "pycharm": {
     "is_executing": false,
     "name": "#%%\n"
    }
   },
   "outputs": [],
   "source": [
    "# working directory\n",
    "pwd: str = os.environ['HOME'] + '/work/assignment/assignment-6'"
   ]
  },
  {
   "cell_type": "markdown",
   "metadata": {},
   "source": [
    "#### Read the input file"
   ]
  },
  {
   "cell_type": "code",
   "execution_count": 37,
   "metadata": {
    "pycharm": {
     "is_executing": false,
     "name": "#%%\n"
    }
   },
   "outputs": [],
   "source": [
    "master: DataFrame = pd.read_csv(pwd + '/AdultUCI.csv')"
   ]
  },
  {
   "cell_type": "markdown",
   "metadata": {},
   "source": [
    "#### Exploring null values"
   ]
  },
  {
   "cell_type": "code",
   "execution_count": 38,
   "metadata": {
    "pycharm": {
     "is_executing": false,
     "name": "#%%\n"
    }
   },
   "outputs": [
    {
     "name": "stdout",
     "text": [
      "age                   0\nworkclass          2799\nfnlwgt                0\neducation             0\neducation-num         0\nmarital-status        0\noccupation         2809\nrelationship          0\nrace                  0\nsex                   0\ncapital-gain          0\ncapital-loss          0\nhours-per-week        0\nnative-country      857\nincome            16281\ndtype: int64\n"
     ],
     "output_type": "stream"
    }
   ],
   "source": [
    "print(master.isna().sum())"
   ]
  },
  {
   "cell_type": "markdown",
   "metadata": {},
   "source": [
    "#### Filtering out rows with income = null"
   ]
  },
  {
   "cell_type": "code",
   "execution_count": 39,
   "metadata": {
    "pycharm": {
     "is_executing": false,
     "name": "#%%\n"
    }
   },
   "outputs": [],
   "source": [
    "income_not_null = master['income'].notnull()\n",
    "master = master[income_not_null]"
   ]
  },
  {
   "cell_type": "markdown",
   "metadata": {},
   "source": [
    "#### Exploring null values (after removing income = null records)"
   ]
  },
  {
   "cell_type": "code",
   "execution_count": 40,
   "metadata": {
    "pycharm": {
     "is_executing": false,
     "name": "#%%\n"
    }
   },
   "outputs": [
    {
     "name": "stdout",
     "text": [
      "age                  0\nworkclass         1836\nfnlwgt               0\neducation            0\neducation-num        0\nmarital-status       0\noccupation        1843\nrelationship         0\nrace                 0\nsex                  0\ncapital-gain         0\ncapital-loss         0\nhours-per-week       0\nnative-country     583\nincome               0\ndtype: int64\n"
     ],
     "output_type": "stream"
    }
   ],
   "source": [
    "print(master.isna().sum())"
   ]
  },
  {
   "cell_type": "markdown",
   "metadata": {},
   "source": [
    "#### Exploring field values summary"
   ]
  },
  {
   "cell_type": "code",
   "execution_count": 41,
   "metadata": {
    "pycharm": {
     "is_executing": false,
     "name": "#%%\n"
    }
   },
   "outputs": [
    {
     "name": "stdout",
     "text": [
      "                  count           mean            std      min       25%  \\\nage             32561.0      38.581647      13.640433     17.0      28.0   \nfnlwgt          32561.0  189778.366512  105549.977697  12285.0  117827.0   \neducation-num   32561.0      10.080679       2.572720      1.0       9.0   \ncapital-gain    32561.0    1077.648844    7385.292085      0.0       0.0   \ncapital-loss    32561.0      87.303830     402.960219      0.0       0.0   \nhours-per-week  32561.0      40.437456      12.347429      1.0      40.0   \n\n                     50%       75%        max  \nage                 37.0      48.0       90.0  \nfnlwgt          178356.0  237051.0  1484705.0  \neducation-num       10.0      12.0       16.0  \ncapital-gain         0.0       0.0    99999.0  \ncapital-loss         0.0       0.0     4356.0  \nhours-per-week      40.0      45.0       99.0  \n"
     ],
     "output_type": "stream"
    }
   ],
   "source": [
    "print(master.describe().T)"
   ]
  },
  {
   "cell_type": "markdown",
   "metadata": {},
   "source": [
    "#### Exploring field types"
   ]
  },
  {
   "cell_type": "code",
   "execution_count": 42,
   "metadata": {
    "pycharm": {
     "is_executing": false,
     "name": "#%%\n"
    }
   },
   "outputs": [
    {
     "name": "stdout",
     "text": [
      "<class 'pandas.core.frame.DataFrame'>\nInt64Index: 32561 entries, 0 to 32560\nData columns (total 15 columns):\n #   Column          Non-Null Count  Dtype \n---  ------          --------------  ----- \n 0   age             32561 non-null  int64 \n 1   workclass       30725 non-null  object\n 2   fnlwgt          32561 non-null  int64 \n 3   education       32561 non-null  object\n 4   education-num   32561 non-null  int64 \n 5   marital-status  32561 non-null  object\n 6   occupation      30718 non-null  object\n 7   relationship    32561 non-null  object\n 8   race            32561 non-null  object\n 9   sex             32561 non-null  object\n 10  capital-gain    32561 non-null  int64 \n 11  capital-loss    32561 non-null  int64 \n 12  hours-per-week  32561 non-null  int64 \n 13  native-country  31978 non-null  object\n 14  income          32561 non-null  object\ndtypes: int64(6), object(9)\nmemory usage: 4.0+ MB\nNone\n"
     ],
     "output_type": "stream"
    }
   ],
   "source": [
    "print(master.info())"
   ]
  },
  {
   "cell_type": "markdown",
   "metadata": {},
   "source": [
    "#### Exploring field correlation"
   ]
  },
  {
   "cell_type": "code",
   "execution_count": 43,
   "metadata": {
    "pycharm": {
     "is_executing": false,
     "name": "#%%\n"
    }
   },
   "outputs": [
    {
     "name": "stdout",
     "text": [
      "                     age    fnlwgt  education-num  capital-gain  capital-loss  \\\nage             1.000000 -0.076646       0.036527      0.077674      0.057775   \nfnlwgt         -0.076646  1.000000      -0.043195      0.000432     -0.010252   \neducation-num   0.036527 -0.043195       1.000000      0.122630      0.079923   \ncapital-gain    0.077674  0.000432       0.122630      1.000000     -0.031615   \ncapital-loss    0.057775 -0.010252       0.079923     -0.031615      1.000000   \nhours-per-week  0.068756 -0.018768       0.148123      0.078409      0.054256   \n\n                hours-per-week  \nage                   0.068756  \nfnlwgt               -0.018768  \neducation-num         0.148123  \ncapital-gain          0.078409  \ncapital-loss          0.054256  \nhours-per-week        1.000000  \n"
     ],
     "output_type": "stream"
    }
   ],
   "source": [
    "print(master.corr())"
   ]
  },
  {
   "cell_type": "markdown",
   "metadata": {},
   "source": [
    "#### Explore the number of levels in each column"
   ]
  },
  {
   "cell_type": "code",
   "execution_count": 44,
   "metadata": {
    "pycharm": {
     "is_executing": false,
     "name": "#%%\n"
    }
   },
   "outputs": [
    {
     "name": "stdout",
     "text": [
      "Col =  workclass  :: Levels =  9\nCol =  education  :: Levels =  16\n",
      "Col =  marital-status  :: Levels =  7\nCol =  occupation  :: Levels =  15\nCol =  relationship  :: Levels =  6\nCol =  race  :: Levels =  5\nCol =  sex  :: Levels =  2\nCol =  native-country  :: Levels =  42\nCol =  income  :: Levels =  2\n"
     ],
     "output_type": "stream"
    }
   ],
   "source": [
    "category_cols = ['workclass', 'education', 'marital-status', 'occupation', 'relationship', \n",
    "        'race', 'sex', 'native-country', 'income']\n",
    "for col in category_cols:\n",
    "    print('Col = ', col, ' :: Levels = ', len(master[col].unique()))"
   ]
  },
  {
   "cell_type": "markdown",
   "metadata": {},
   "source": [
    "#### Explore the distinct values in each column"
   ]
  },
  {
   "cell_type": "code",
   "execution_count": 45,
   "metadata": {
    "pycharm": {
     "is_executing": false,
     "name": "#%%\n"
    }
   },
   "outputs": [
    {
     "name": "stdout",
     "text": [
      "Col =  workclass\nPrivate             22696\nSelf-emp-not-inc     2541\nLocal-gov            2093\nState-gov            1298\nSelf-emp-inc         1116\nFederal-gov           960\nWithout-pay            14\nNever-worked            7\nName: workclass, dtype: int64\n=====================================\nCol =  education\nHS-grad         10501\nSome-college     7291\nBachelors        5355\nMasters          1723\nAssoc-voc        1382\n11th             1175\nAssoc-acdm       1067\n10th              933\n7th-8th           646\nProf-school       576\n9th               514\n12th              433\nDoctorate         413\n5th-6th           333\n1st-4th           168\nPreschool          51\nName: education, dtype: int64\n=====================================\nCol =  marital-status\nMarried-civ-spouse       14976\nNever-married            10683\nDivorced                  4443\nSeparated                 1025\nWidowed                    993\nMarried-spouse-absent      418\nMarried-AF-spouse           23\nName: marital-status, dtype: int64\n=====================================\nCol =  occupation\n",
      "Prof-specialty       4140\nCraft-repair         4099\nExec-managerial      4066\nAdm-clerical         3770\nSales                3650\nOther-service        3295\nMachine-op-inspct    2002\nTransport-moving     1597\nHandlers-cleaners    1370\nFarming-fishing       994\nTech-support          928\nProtective-serv       649\nPriv-house-serv       149\nArmed-Forces            9\nName: occupation, dtype: int64\n=====================================\nCol =  relationship\nHusband           13193\nNot-in-family      8305\nOwn-child          5068\nUnmarried          3446\nWife               1568\nOther-relative      981\nName: relationship, dtype: int64\n=====================================\nCol =  race\n",
      "White                 27816\nBlack                  3124\nAsian-Pac-Islander     1039\nAmer-Indian-Eskimo      311\nOther                   271\nName: race, dtype: int64\n=====================================\nCol =  sex\nMale      21790\nFemale    10771\nName: sex, dtype: int64\n=====================================\nCol =  native-country\n",
      "United-States                 29170\nMexico                          643\nPhilippines                     198\nGermany                         137\nCanada                          121\nPuerto-Rico                     114\nEl-Salvador                     106\nIndia                           100\nCuba                             95\nEngland                          90\nJamaica                          81\nSouth                            80\nChina                            75\nItaly                            73\nDominican-Republic               70\nVietnam                          67\nGuatemala                        64\nJapan                            62\nPoland                           60\nColumbia                         59\nTaiwan                           51\nHaiti                            44\nIran                             43\nPortugal                         37\nNicaragua                        34\nPeru                             31\nGreece                           29\nFrance                           29\nEcuador                          28\nIreland                          24\nHong                             20\nCambodia                         19\nTrinadad&Tobago                  19\nThailand                         18\nLaos                             18\nYugoslavia                       16\nOutlying-US(Guam-USVI-etc)       14\nHonduras                         13\nHungary                          13\nScotland                         12\nHoland-Netherlands                1\nName: native-country, dtype: int64\n=====================================\nCol =  income\n",
      "small    24720\nlarge     7841\nName: income, dtype: int64\n=====================================\n"
     ],
     "output_type": "stream"
    }
   ],
   "source": [
    "for col in category_cols:\n",
    "    print('Col = ', col)\n",
    "    print(master[col].value_counts())\n",
    "    print('=====================================')"
   ]
  },
  {
   "cell_type": "markdown",
   "metadata": {},
   "source": [
    "#### Label encoding categorical variables"
   ]
  },
  {
   "cell_type": "code",
   "execution_count": 46,
   "metadata": {
    "pycharm": {
     "is_executing": false,
     "name": "#%%\n"
    }
   },
   "outputs": [
    {
     "name": "stdout",
     "text": [
      "<class 'pandas.core.frame.DataFrame'>\nInt64Index: 32561 entries, 0 to 32560\nData columns (total 15 columns):\n #   Column          Non-Null Count  Dtype\n---  ------          --------------  -----\n 0   age             32561 non-null  int64\n 1   workclass       32561 non-null  int64\n 2   fnlwgt          32561 non-null  int64\n 3   education       32561 non-null  int64\n 4   education-num   32561 non-null  int64\n 5   marital-status  32561 non-null  int64\n 6   occupation      32561 non-null  int64\n 7   relationship    32561 non-null  int64\n 8   race            32561 non-null  int64\n 9   sex             32561 non-null  int64\n 10  capital-gain    32561 non-null  int64\n 11  capital-loss    32561 non-null  int64\n 12  hours-per-week  32561 non-null  int64\n 13  native-country  32561 non-null  int64\n 14  income          32561 non-null  int64\ndtypes: int64(15)\nmemory usage: 4.0 MB\n"
     ],
     "output_type": "stream"
    }
   ],
   "source": [
    "for col in category_cols:\n",
    "    master[col] = master[col].astype('category')\n",
    "    master[col].fillna(master[col].mode()[0], inplace=True)\n",
    "    master[col] = master[[col]].apply(le.fit_transform)\n",
    "\n",
    "master.info()"
   ]
  },
  {
   "cell_type": "markdown",
   "metadata": {},
   "source": [
    "#### Identify the predictor columns & target column"
   ]
  },
  {
   "cell_type": "code",
   "execution_count": 47,
   "metadata": {
    "pycharm": {
     "is_executing": false,
     "name": "#%%\n"
    }
   },
   "outputs": [],
   "source": [
    "master_pred = master.drop(columns=['fnlwgt', 'relationship', 'capital-gain', 'capital-loss', \n",
    "                                   'hours-per-week', 'native-country', 'income'])\n",
    "master_target = master['income']"
   ]
  },
  {
   "cell_type": "markdown",
   "metadata": {},
   "source": [
    "#### Split data into training and testing set"
   ]
  },
  {
   "cell_type": "code",
   "execution_count": 48,
   "metadata": {
    "pycharm": {
     "is_executing": false,
     "name": "#%%\n"
    }
   },
   "outputs": [
    {
     "name": "stdout",
     "text": [
      "(26048, 8)\n(6513, 8)\n"
     ],
     "output_type": "stream"
    }
   ],
   "source": [
    "x_train, x_test, y_train, y_test = train_test_split(master_pred, master_target, test_size=.2)\n",
    "\n",
    "print(x_train.shape)\n",
    "print(x_test.shape)"
   ]
  },
  {
   "cell_type": "markdown",
   "source": [
    "#### Executing Random Forest models for a range of tree count values & calculating the accuracies."
   ],
   "metadata": {
    "collapsed": false
   }
  },
  {
   "cell_type": "code",
   "execution_count": 49,
   "outputs": [],
   "source": [
    "seq_rf: range = range(1, 101)\n",
    "acc_rf = np.zeros(100)\n",
    "\n",
    "for i in seq_rf:\n",
    "    _rf = RandomForestClassifier(n_estimators=i)\n",
    "    _model_rf = _rf.fit(x_train, y_train)\n",
    "    _y_pred_rf = _model_rf.predict(x_test)\n",
    "    acc_rf[i-1] = accuracy_score(y_test, _y_pred_rf)"
   ],
   "metadata": {
    "collapsed": false,
    "pycharm": {
     "name": "#%%\n",
     "is_executing": false
    }
   }
  },
  {
   "cell_type": "markdown",
   "source": [
    "#### Plot the accuracies against the tree counts."
   ],
   "metadata": {
    "collapsed": false
   }
  },
  {
   "cell_type": "code",
   "execution_count": 50,
   "outputs": [
    {
     "data": {
      "text/plain": "<seaborn.axisgrid.FacetGrid at 0x7ff43bd9d3d0>"
     },
     "metadata": {},
     "output_type": "execute_result",
     "execution_count": 50
    },
    {
     "data": {
      "text/plain": "<Figure size 360x360 with 1 Axes>",
      "image/png": "[encoded data removed]"
     },
     "metadata": {},
     "output_type": "display_data"
    }
   ],
   "source": [
    "acc_rf_tuples: list = list(zip(seq_rf, acc_rf))\n",
    "acc_rf_df: DataFrame = pd.DataFrame(acc_rf_tuples, columns=['Trees', 'Accuracy'])\n",
    "\n",
    "sns.relplot(x='Trees', y='Accuracy', data=acc_rf_df)"
   ],
   "metadata": {
    "collapsed": false,
    "pycharm": {
     "name": "#%%\n",
     "is_executing": false
    }
   }
  },
  {
   "cell_type": "markdown",
   "source": [
    "#### Find the optimal tree count having the maximum accuracy"
   ],
   "metadata": {
    "collapsed": false
   }
  },
  {
   "cell_type": "code",
   "execution_count": 68,
   "outputs": [
    {
     "name": "stdout",
     "text": [
      "Max accuracy = 0.814985413787809\nTree count with max accuracy = 61\n"
     ],
     "output_type": "stream"
    }
   ],
   "source": [
    "max_acc_rf = np.amax(acc_rf)\n",
    "max_acc_trees = np.where(acc_rf == max_acc_rf)[0][0] + 1\n",
    "print('Max accuracy =', max_acc_rf)\n",
    "print('Tree count with max accuracy =', max_acc_trees)"
   ],
   "metadata": {
    "collapsed": false,
    "pycharm": {
     "name": "#%%\n",
     "is_executing": false
    }
   }
  },
  {
   "cell_type": "markdown",
   "source": [
    "#### Rebuilding Random Forest model with the optimal tree count"
   ],
   "metadata": {
    "collapsed": false
   }
  },
  {
   "cell_type": "code",
   "execution_count": 69,
   "outputs": [],
   "source": [
    "rf = RandomForestClassifier(n_estimators=max_acc_trees)\n",
    "model_rf = rf.fit(x_train, y_train)\n",
    "y_pred_rf = model_rf.predict(x_test)"
   ],
   "metadata": {
    "collapsed": false,
    "pycharm": {
     "name": "#%%\n",
     "is_executing": false
    }
   }
  },
  {
   "cell_type": "markdown",
   "source": [
    "#### Evaluate the Random Forest model"
   ],
   "metadata": {
    "collapsed": false
   }
  },
  {
   "cell_type": "code",
   "execution_count": 70,
   "outputs": [
    {
     "name": "stdout",
     "text": [
      "Accuracy:  0.81\nPrecision: 0.75\nRecall:  0.72\nF1-score:  0.73\n[[ 879  709]\n [ 513 4412]]\n              precision    recall  f1-score   support\n\n           0       0.63      0.55      0.59      1588\n           1       0.86      0.90      0.88      4925\n\n    accuracy                           0.81      6513\n   macro avg       0.75      0.72      0.73      6513\nweighted avg       0.81      0.81      0.81      6513\n\n"
     ],
     "output_type": "stream"
    }
   ],
   "source": [
    "evaluate_model(y_test, y_pred_rf)"
   ],
   "metadata": {
    "collapsed": false,
    "pycharm": {
     "name": "#%%\n",
     "is_executing": false
    }
   }
  },
  {
   "cell_type": "markdown",
   "source": [
    "#### Build Naive Bayesian model"
   ],
   "metadata": {
    "collapsed": false
   }
  },
  {
   "cell_type": "code",
   "execution_count": 54,
   "outputs": [],
   "source": [
    "nb = GaussianNB()\n",
    "model_nb = nb.fit(x_train, y_train)\n",
    "y_pred_nb = model_nb.predict(x_test)"
   ],
   "metadata": {
    "collapsed": false,
    "pycharm": {
     "name": "#%%\n",
     "is_executing": false
    }
   }
  },
  {
   "cell_type": "markdown",
   "source": [
    "#### Evaluate the Naive Bayesian model"
   ],
   "metadata": {
    "collapsed": false
   }
  },
  {
   "cell_type": "code",
   "execution_count": 55,
   "outputs": [
    {
     "name": "stdout",
     "text": [
      "Accuracy:  0.79\nPrecision: 0.72\nRecall:  0.74\nF1-score:  0.73\n[[1038  550]\n [ 831 4094]]\n              precision    recall  f1-score   support\n\n           0       0.56      0.65      0.60      1588\n           1       0.88      0.83      0.86      4925\n\n    accuracy                           0.79      6513\n   macro avg       0.72      0.74      0.73      6513\nweighted avg       0.80      0.79      0.79      6513\n\n"
     ],
     "output_type": "stream"
    }
   ],
   "source": [
    "evaluate_model(y_test, y_pred_nb)"
   ],
   "metadata": {
    "collapsed": false,
    "pycharm": {
     "name": "#%%\n",
     "is_executing": false
    }
   }
  },
  {
   "cell_type": "markdown",
   "source": [
    "#### Executing KNN models for a range of neighbor count values & calculating the accuracies."
   ],
   "metadata": {
    "collapsed": false
   }
  },
  {
   "cell_type": "code",
   "execution_count": 63,
   "outputs": [],
   "source": [
    "seq_knn: range = range(1, 21)\n",
    "acc_knn = np.zeros(20)\n",
    "\n",
    "for i in seq_knn:\n",
    "    _knn = KNeighborsClassifier(n_neighbors=i, weights='uniform')\n",
    "    _model_knn = _knn.fit(x_train, y_train)\n",
    "    _y_pred_knn = _model_knn.predict(x_test)\n",
    "    acc_knn[i-1] = accuracy_score(y_test, _y_pred_knn)"
   ],
   "metadata": {
    "collapsed": false,
    "pycharm": {
     "name": "#%%\n",
     "is_executing": false
    }
   }
  },
  {
   "cell_type": "markdown",
   "source": [
    "#### Plot the accuracies against the neighbor counts."
   ],
   "metadata": {
    "collapsed": false
   }
  },
  {
   "cell_type": "code",
   "execution_count": 64,
   "outputs": [
    {
     "data": {
      "text/plain": "<seaborn.axisgrid.FacetGrid at 0x7ff43b8bda90>"
     },
     "metadata": {},
     "output_type": "execute_result",
     "execution_count": 64
    },
    {
     "data": {
      "text/plain": "<Figure size 360x360 with 1 Axes>",
      "image/png": "[encoded data removed]"
     },
     "metadata": {},
     "output_type": "display_data"
    }
   ],
   "source": [
    "acc_knn_tuples: list = list(zip(seq_knn, acc_knn))\n",
    "acc_knn_df: DataFrame = pd.DataFrame(acc_knn_tuples, columns=['Neighbors', 'Accuracy'])\n",
    "\n",
    "sns.relplot(x='Neighbors', y='Accuracy', data=acc_knn_df)"
   ],
   "metadata": {
    "collapsed": false,
    "pycharm": {
     "name": "#%%\n",
     "is_executing": false
    }
   }
  },
  {
   "cell_type": "markdown",
   "source": [
    "#### Find the optimal neighbor count having the maximum accuracy"
   ],
   "metadata": {
    "collapsed": false
   }
  },
  {
   "cell_type": "code",
   "execution_count": 65,
   "outputs": [
    {
     "name": "stdout",
     "text": [
      "Max accuracy = 0.8186703516044833\nNeighbor count with max accuracy = 18\n"
     ],
     "output_type": "stream"
    }
   ],
   "source": [
    "max_acc_knn = np.amax(acc_knn)\n",
    "max_acc_neighbors = np.where(acc_knn == max_acc_knn)[0][0] + 1\n",
    "print('Max accuracy =', max_acc_knn)\n",
    "print('Neighbor count with max accuracy =', max_acc_neighbors)"
   ],
   "metadata": {
    "collapsed": false,
    "pycharm": {
     "name": "#%%\n",
     "is_executing": false
    }
   }
  },
  {
   "cell_type": "markdown",
   "source": [
    "#### Rebuilding KNN model with the optimal neighbor count"
   ],
   "metadata": {
    "collapsed": false
   }
  },
  {
   "cell_type": "code",
   "execution_count": 66,
   "metadata": {
    "pycharm": {
     "is_executing": false,
     "name": "#%%\n"
    }
   },
   "outputs": [],
   "source": [
    "knn = KNeighborsClassifier(n_neighbors=max_acc_neighbors, weights='uniform')\n",
    "model_knn = knn.fit(x_train, y_train)\n",
    "y_pred_knn = model_knn.predict(x_test)"
   ]
  },
  {
   "cell_type": "markdown",
   "metadata": {},
   "source": [
    "#### Evaluate the KNN model"
   ]
  },
  {
   "cell_type": "code",
   "execution_count": 67,
   "metadata": {
    "pycharm": {
     "is_executing": false,
     "name": "#%%\n"
    }
   },
   "outputs": [
    {
     "name": "stdout",
     "text": [
      "Accuracy:  0.82\nPrecision: 0.75\nRecall:  0.75\nF1-score:  0.75\n[[ 974  614]\n [ 567 4358]]\n              precision    recall  f1-score   support\n\n           0       0.63      0.61      0.62      1588\n           1       0.88      0.88      0.88      4925\n\n    accuracy                           0.82      6513\n   macro avg       0.75      0.75      0.75      6513\nweighted avg       0.82      0.82      0.82      6513\n\n"
     ],
     "output_type": "stream"
    }
   ],
   "source": [
    "evaluate_model(y_test, y_pred_knn)\n"
   ]
  }
 ],
 "metadata": {
  "kernelspec": {
   "display_name": "Python 3",
   "language": "python",
   "name": "python3"
  },
  "language_info": {
   "codemirror_mode": {
    "name": "ipython",
    "version": 3
   },
   "file_extension": ".py",
   "mimetype": "text/x-python",
   "name": "python",
   "nbconvert_exporter": "python",
   "pygments_lexer": "ipython3",
   "version": "3.7.4"
  },
  "pycharm": {
   "stem_cell": {
    "cell_type": "raw",
    "source": [],
    "metadata": {
     "collapsed": false
    }
   }
  }
 },
 "nbformat": 4,
 "nbformat_minor": 1
}