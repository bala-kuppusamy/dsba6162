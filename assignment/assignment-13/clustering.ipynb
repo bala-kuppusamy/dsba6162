{
 "cells": [
  {
   "cell_type": "code",
   "execution_count": 119,
   "metadata": {
    "collapsed": true,
    "pycharm": {
     "is_executing": false
    }
   },
   "outputs": [],
   "source": [
    "import os\n",
    "import numpy as np\n",
    "\n",
    "import pandas as pd\n",
    "from pandas import DataFrame\n",
    "\n",
    "import seaborn as sns\n",
    "sns.set()\n",
    "\n",
    "from sklearn.preprocessing import StandardScaler\n",
    "from sklearn.cluster import KMeans\n",
    "\n",
    "from scipy.spatial.distance import cdist\n",
    "from scipy.cluster.hierarchy import linkage\n",
    "from scipy.cluster.hierarchy import dendrogram\n",
    "from sklearn.cluster import AgglomerativeClustering\n",
    "\n",
    "import warnings\n",
    "warnings.filterwarnings(\"ignore\")"
   ]
  },
  {
   "cell_type": "markdown",
   "metadata": {},
   "source": [
    "#### Define system constants"
   ]
  },
  {
   "cell_type": "code",
   "execution_count": 120,
   "metadata": {
    "pycharm": {
     "is_executing": false,
     "name": "#%%\n"
    }
   },
   "outputs": [],
   "source": [
    "# working directory\n",
    "pwd: str = os.environ['HOME'] + '/work/assignment/assignment-13'\n",
    "file: str = pwd + '/longley.csv'"
   ]
  },
  {
   "cell_type": "markdown",
   "metadata": {},
   "source": [
    "#### Read the data file"
   ]
  },
  {
   "cell_type": "code",
   "execution_count": 121,
   "metadata": {
    "pycharm": {
     "is_executing": false,
     "name": "#%%\n"
    }
   },
   "outputs": [
    {
     "name": "stdout",
     "output_type": "stream",
     "text": [
      "   Unnamed: 0  GNP.deflator      GNP  Unemployed  Armed.Forces  Population  \\\n",
      "0        1947          83.0  234.289       235.6         159.0     107.608   \n",
      "1        1948          88.5  259.426       232.5         145.6     108.632   \n",
      "2        1949          88.2  258.054       368.2         161.6     109.773   \n",
      "3        1950          89.5  284.599       335.1         165.0     110.929   \n",
      "4        1951          96.2  328.975       209.9         309.9     112.075   \n",
      "\n",
      "   Year  Employed  \n",
      "0  1947    60.323  \n",
      "1  1948    61.122  \n",
      "2  1949    60.171  \n",
      "3  1950    61.187  \n",
      "4  1951    63.221  \n"
     ]
    }
   ],
   "source": [
    "df: DataFrame = pd.read_csv(file, sep=',')\n",
    "print(df.head())"
   ]
  },
  {
   "cell_type": "markdown",
   "metadata": {},
   "source": [
    "#### Data cleanup\n",
    "- Removed the unnamed first column containing 'year' values.\n",
    "- Made the 'Year' column as index. This column would thus be excluded from the clustering analysis, since it contains temporal data."
   ]
  },
  {
   "cell_type": "code",
   "execution_count": 122,
   "metadata": {
    "pycharm": {
     "is_executing": false,
     "name": "#%%\n"
    }
   },
   "outputs": [
    {
     "name": "stdout",
     "output_type": "stream",
     "text": [
      "      GNP.deflator      GNP  Unemployed  Armed.Forces  Population  Employed\n",
      "Year                                                                       \n",
      "1947          83.0  234.289       235.6         159.0     107.608    60.323\n",
      "1948          88.5  259.426       232.5         145.6     108.632    61.122\n",
      "1949          88.2  258.054       368.2         161.6     109.773    60.171\n",
      "1950          89.5  284.599       335.1         165.0     110.929    61.187\n",
      "1951          96.2  328.975       209.9         309.9     112.075    63.221\n",
      "       GNP.deflator         GNP  Unemployed  Armed.Forces  Population  \\\n",
      "count     16.000000   16.000000   16.000000      16.00000   16.000000   \n",
      "mean     101.681250  387.698438  319.331250     260.66875  117.424000   \n",
      "std       10.791553   99.394938   93.446425      69.59196    6.956102   \n",
      "min       83.000000  234.289000  187.000000     145.60000  107.608000   \n",
      "25%       94.525000  317.881000  234.825000     229.80000  111.788500   \n",
      "50%      100.600000  381.427000  314.350000     271.75000  116.803500   \n",
      "75%      111.250000  454.085500  384.250000     306.07500  122.304000   \n",
      "max      116.900000  554.894000  480.600000     359.40000  130.081000   \n",
      "\n",
      "        Employed  \n",
      "count  16.000000  \n",
      "mean   65.317000  \n",
      "std     3.511968  \n",
      "min    60.171000  \n",
      "25%    62.712500  \n",
      "50%    65.504000  \n",
      "75%    68.290500  \n",
      "max    70.551000  \n"
     ]
    }
   ],
   "source": [
    "df_clean = df.drop(df.columns[[0]], axis=1)\n",
    "df_clean.set_index('Year', inplace=True)\n",
    "print(df_clean.head())\n",
    "print(df_clean.describe())"
   ]
  },
  {
   "cell_type": "markdown",
   "metadata": {},
   "source": [
    "#### Scaling the data - using StandardScalar function.\n",
    "- Make the mean as 0, scale to unit variance (standard deviation)"
   ]
  },
  {
   "cell_type": "code",
   "execution_count": 123,
   "metadata": {
    "pycharm": {
     "is_executing": false,
     "name": "#%%\n"
    }
   },
   "outputs": [
    {
     "name": "stdout",
     "output_type": "stream",
     "text": [
      "   GNP.deflator       GNP  Unemployed  Armed.Forces  Population  Employed\n",
      "0     -1.787872 -1.594051   -0.925421     -1.508839   -1.457414 -1.468630\n",
      "1     -1.261499 -1.332857   -0.959683     -1.707704   -1.305378 -1.233661\n",
      "2     -1.290210 -1.347113    0.540111     -1.470253   -1.135969 -1.513330\n",
      "3     -1.165795 -1.071288    0.174281     -1.419794   -0.964334 -1.214546\n",
      "4     -0.524578 -0.610185   -1.209464      0.730628   -0.794184 -0.616389\n",
      "       GNP.deflator           GNP    Unemployed  Armed.Forces    Population  \\\n",
      "count  1.600000e+01  1.600000e+01  1.600000e+01  1.600000e+01  1.600000e+01   \n",
      "mean  -4.996004e-16 -1.110223e-16  5.551115e-16  1.110223e-16  9.436896e-16   \n",
      "std    1.032796e+00  1.032796e+00  1.032796e+00  1.032796e+00  1.032796e+00   \n",
      "min   -1.787872e+00 -1.594051e+00 -1.462561e+00 -1.707704e+00 -1.457414e+00   \n",
      "25%   -6.848822e-01 -7.254609e-01 -9.339863e-01 -4.581148e-01 -8.367214e-01   \n",
      "50%   -1.034800e-01 -6.516542e-02 -5.505414e-02  1.644538e-01 -9.212770e-02   \n",
      "75%    9.157683e-01  6.898165e-01  7.174999e-01  6.738619e-01  7.245498e-01   \n",
      "max    1.456496e+00  1.737300e+00  1.782387e+00  1.465244e+00  1.879227e+00   \n",
      "\n",
      "           Employed  \n",
      "count  1.600000e+01  \n",
      "mean  -2.359224e-15  \n",
      "std    1.032796e+00  \n",
      "min   -1.513330e+00  \n",
      "25%   -7.659283e-01  \n",
      "50%    5.499274e-02  \n",
      "75%    8.744434e-01  \n",
      "max    1.539209e+00  \n"
     ]
    }
   ],
   "source": [
    "scalar = StandardScaler()\n",
    "df_scaled = pd.DataFrame(scalar.fit_transform(df_clean), columns=df_clean.columns)\n",
    "print(df_scaled.head())\n",
    "print(df_scaled.describe())"
   ]
  },
  {
   "cell_type": "markdown",
   "metadata": {},
   "source": [
    "#### K-means analysis to find out the optimal cluster count\n",
    "- Runs the cluster analysis for cluster count range 1 - 10.\n",
    "- Record the intra-cluster average distance"
   ]
  },
  {
   "cell_type": "code",
   "execution_count": 124,
   "metadata": {
    "pycharm": {
     "is_executing": false,
     "name": "#%%\n"
    }
   },
   "outputs": [
    {
     "name": "stdout",
     "output_type": "stream",
     "text": [
      "Mean distance for each cluster count => [2.29421183 1.52341949 0.94771894 0.73356848 0.64587094 0.51370094\n",
      " 0.42541074 0.37717041 0.30408328 0.23227448]\n"
     ]
    }
   ],
   "source": [
    "# k-means cluster analysis for 10 clusters         \n",
    "seq_kmeans: range = range(1, 11)\n",
    "dist_kmeans = np.zeros(10)\n",
    "\n",
    "for k in seq_kmeans:\n",
    "    model = KMeans(n_clusters=k)\n",
    "    model.fit(df_scaled)\n",
    "    predicted = model.predict(df_scaled)\n",
    "    # euclidean distances of each data point with each centroid\n",
    "    distances = cdist(df_scaled, model.cluster_centers_, 'euclidean')\n",
    "    # euclidean distances of each data point with its centroid (min distance)\n",
    "    min_distances = np.min(distances, axis=1)\n",
    "    # avg euclidean distance across all data points against its centroid.\n",
    "    avg_distance = sum(min_distances) / len(min_distances)\n",
    "    dist_kmeans[k-1] = avg_distance\n",
    "\n",
    "print('Mean distance for each cluster count =>', dist_kmeans)"
   ]
  },
  {
   "cell_type": "markdown",
   "metadata": {},
   "source": [
    "#### Plot the cluster counts against the average intra-cluster distance."
   ]
  },
  {
   "cell_type": "code",
   "execution_count": 125,
   "metadata": {
    "pycharm": {
     "is_executing": false,
     "name": "#%%\n"
    }
   },
   "outputs": [
    {
     "data": {
      "text/plain": [
       "<matplotlib.axes._subplots.AxesSubplot at 0x7f05cefb3c10>"
      ]
     },
     "execution_count": 125,
     "metadata": {},
     "output_type": "execute_result"
    },
    {
     "data": {
      "image/png": "[encoded data removed]",
      "text/plain": [
       "<Figure size 432x288 with 1 Axes>"
      ]
     },
     "metadata": {},
     "output_type": "display_data"
    }
   ],
   "source": [
    "dist_kmeans_tuples: list = list(zip(seq_kmeans, dist_kmeans))\n",
    "dist_kmeans_df: DataFrame = pd.DataFrame(dist_kmeans_tuples, columns=['# of Clusters', 'Avg Distance'])\n",
    "\n",
    "sns.lineplot(x='# of Clusters', y='Avg Distance', data=dist_kmeans_df)"
   ]
  },
  {
   "cell_type": "markdown",
   "metadata": {},
   "source": [
    "#### Build K-means model for the optimal cluster count\n",
    "- Optimal cluster count is determined as 3 based on elbow method from the previous plot\n",
    "- Add the cluster label as a column to the dataframe."
   ]
  },
  {
   "cell_type": "code",
   "execution_count": 126,
   "metadata": {
    "pycharm": {
     "is_executing": false,
     "name": "#%%\n"
    }
   },
   "outputs": [
    {
     "name": "stdout",
     "output_type": "stream",
     "text": [
      "   GNP.deflator       GNP  Unemployed  Armed.Forces  Population  Employed  \\\n",
      "0     -1.787872 -1.594051   -0.925421     -1.508839   -1.457414 -1.468630   \n",
      "1     -1.261499 -1.332857   -0.959683     -1.707704   -1.305378 -1.233661   \n",
      "2     -1.290210 -1.347113    0.540111     -1.470253   -1.135969 -1.513330   \n",
      "3     -1.165795 -1.071288    0.174281     -1.419794   -0.964334 -1.214546   \n",
      "4     -0.524578 -0.610185   -1.209464      0.730628   -0.794184 -0.616389   \n",
      "\n",
      "   Cluster  \n",
      "0        1  \n",
      "1        1  \n",
      "2        1  \n",
      "3        1  \n",
      "4        2  \n"
     ]
    }
   ],
   "source": [
    "kmeans_model = KMeans(n_clusters=3)\n",
    "kmeans_model.fit(df_scaled)\n",
    "\n",
    "df_cluster = df_scaled.copy()\n",
    "df_cluster['Cluster'] = list(kmeans_model.labels_)\n",
    "print(df_cluster.head())"
   ]
  },
  {
   "cell_type": "code",
   "execution_count": 127,
   "metadata": {
    "pycharm": {
     "is_executing": false,
     "name": "#%%\n"
    }
   },
   "outputs": [
    {
     "data": {
      "text/plain": [
       "<seaborn.axisgrid.FacetGrid at 0x7f05ced91e50>"
      ]
     },
     "execution_count": 127,
     "metadata": {},
     "output_type": "execute_result"
    },
    {
     "data": {
      "image/png": "[encoded data removed]",
      "text/plain": [
       "<Figure size 438.85x360 with 1 Axes>"
      ]
     },
     "metadata": {},
     "output_type": "display_data"
    }
   ],
   "source": [
    "sns.set_palette('bright')\n",
    "sns.relplot(x='GNP', y='Population', hue='Cluster', data=df_cluster)"
   ]
  },
  {
   "cell_type": "markdown",
   "metadata": {},
   "source": [
    "#### Agglomerative Clustering\n",
    "###### Complete Linkage method"
   ]
  },
  {
   "cell_type": "code",
   "execution_count": 128,
   "metadata": {
    "pycharm": {
     "is_executing": false,
     "name": "#%%\n"
    }
   },
   "outputs": [
    {
     "name": "stdout",
     "output_type": "stream",
     "text": [
      "{'icoord': [[5.0, 5.0, 15.0, 15.0], [25.0, 25.0, 35.0, 35.0], [10.0, 10.0, 30.0, 30.0], [55.0, 55.0, 65.0, 65.0], [45.0, 45.0, 60.0, 60.0], [20.0, 20.0, 52.5, 52.5], [75.0, 75.0, 85.0, 85.0], [95.0, 95.0, 105.0, 105.0], [80.0, 80.0, 100.0, 100.0], [125.0, 125.0, 135.0, 135.0], [115.0, 115.0, 130.0, 130.0], [145.0, 145.0, 155.0, 155.0], [122.5, 122.5, 150.0, 150.0], [90.0, 90.0, 136.25, 136.25], [36.25, 36.25, 113.125, 113.125]], 'dcoord': [[0.0, 0.4961785628529677, 0.4961785628529677, 0.0], [0.0, 1.1489409058733064, 1.1489409058733064, 0.0], [0.4961785628529677, 1.4998183142627366, 1.4998183142627366, 1.1489409058733064], [0.0, 0.5374327138376842, 0.5374327138376842, 0.0], [0.0, 2.265793635317777, 2.265793635317777, 0.5374327138376842], [1.4998183142627366, 3.032215450570408, 3.032215450570408, 2.265793635317777], [0.0, 0.5887841225973024, 0.5887841225973024, 0.0], [0.0, 0.6814230414139465, 0.6814230414139465, 0.0], [0.5887841225973024, 1.6010126939667366, 1.6010126939667366, 0.6814230414139465], [0.0, 0.5333229361394665, 0.5333229361394665, 0.0], [0.0, 1.0919222196041516, 1.0919222196041516, 0.5333229361394665], [0.0, 1.1693940803231149, 1.1693940803231149, 0.0], [1.0919222196041516, 1.953720993774749, 1.953720993774749, 1.1693940803231149], [1.6010126939667366, 4.143307362974712, 4.143307362974712, 1.953720993774749], [3.032215450570408, 6.964473059372713, 6.964473059372713, 4.143307362974712]], 'ivl': ['12', '13', '14', '15', '11', '9', '10', '2', '3', '0', '1', '4', '5', '6', '7', '8'], 'leaves': [12, 13, 14, 15, 11, 9, 10, 2, 3, 0, 1, 4, 5, 6, 7, 8], 'color_list': ['g', 'g', 'g', 'g', 'g', 'g', 'r', 'r', 'r', 'r', 'r', 'r', 'r', 'r', 'b']}\n"
     ]
    },
    {
     "data": {
      "image/png": "[encoded data removed]",
      "text/plain": [
       "<Figure size 432x288 with 1 Axes>"
      ]
     },
     "metadata": {},
     "output_type": "display_data"
    }
   ],
   "source": [
    "row_clusters_complete = linkage(df_scaled.values, method='complete', metric='euclidean')\n",
    "row_dendr_complete = dendrogram(row_clusters_complete)\n",
    "print(row_dendr_complete)"
   ]
  },
  {
   "cell_type": "code",
   "execution_count": 129,
   "metadata": {
    "pycharm": {
     "is_executing": false,
     "name": "#%%\n"
    }
   },
   "outputs": [
    {
     "name": "stdout",
     "output_type": "stream",
     "text": [
      "Label assignment => [2 2 2 2 1 1 1 1 1 0 0 0 0 0 0 0]\n"
     ]
    }
   ],
   "source": [
    "ac_complete = AgglomerativeClustering(n_clusters=3, affinity='euclidean', linkage='complete')\n",
    "labels_complete = ac_complete.fit_predict(df_scaled.values)\n",
    "print('Label assignment =>', labels_complete)"
   ]
  },
  {
   "cell_type": "markdown",
   "metadata": {},
   "source": [
    "###### Ward Linkage method"
   ]
  },
  {
   "cell_type": "code",
   "execution_count": 130,
   "metadata": {
    "pycharm": {
     "is_executing": false,
     "name": "#%%\n"
    }
   },
   "outputs": [
    {
     "name": "stdout",
     "output_type": "stream",
     "text": [
      "{'icoord': [[5.0, 5.0, 15.0, 15.0], [25.0, 25.0, 35.0, 35.0], [10.0, 10.0, 30.0, 30.0], [55.0, 55.0, 65.0, 65.0], [75.0, 75.0, 85.0, 85.0], [60.0, 60.0, 80.0, 80.0], [45.0, 45.0, 70.0, 70.0], [105.0, 105.0, 115.0, 115.0], [95.0, 95.0, 110.0, 110.0], [145.0, 145.0, 155.0, 155.0], [135.0, 135.0, 150.0, 150.0], [125.0, 125.0, 142.5, 142.5], [102.5, 102.5, 133.75, 133.75], [57.5, 57.5, 118.125, 118.125], [20.0, 20.0, 87.8125, 87.8125]], 'dcoord': [[0.0, 0.5887841225973024, 0.5887841225973024, 0.0], [0.0, 0.6814230414139465, 0.6814230414139465, 0.0], [0.5887841225973024, 1.9892435596357945, 1.9892435596357945, 0.6814230414139465], [0.0, 0.4961785628529677, 0.4961785628529677, 0.0], [0.0, 1.1489409058733064, 1.1489409058733064, 0.0], [0.4961785628529677, 1.562763431147308, 1.562763431147308, 1.1489409058733064], [0.0, 1.9244116994349916, 1.9244116994349916, 1.562763431147308], [0.0, 0.5333229361394665, 0.5333229361394665, 0.0], [0.0, 1.0765798708805985, 1.0765798708805985, 0.5333229361394665], [0.0, 0.5374327138376842, 0.5374327138376842, 0.0], [0.0, 1.117758161882037, 1.117758161882037, 0.5374327138376842], [0.0, 2.065846986491968, 2.065846986491968, 1.117758161882037], [1.0765798708805985, 3.4737926983469496, 3.4737926983469496, 2.065846986491968], [1.9244116994349916, 7.72986576948289, 7.72986576948289, 3.4737926983469496], [1.9892435596357945, 10.022604379806339, 10.022604379806339, 7.72986576948289]], 'ivl': ['2', '3', '0', '1', '11', '12', '13', '14', '15', '4', '5', '6', '7', '8', '9', '10'], 'leaves': [2, 3, 0, 1, 11, 12, 13, 14, 15, 4, 5, 6, 7, 8, 9, 10], 'color_list': ['g', 'g', 'g', 'r', 'r', 'r', 'r', 'c', 'c', 'c', 'c', 'c', 'c', 'b', 'b']}\n"
     ]
    },
    {
     "data": {
      "image/png": "[encoded data removed]",
      "text/plain": [
       "<Figure size 432x288 with 1 Axes>"
      ]
     },
     "metadata": {},
     "output_type": "display_data"
    }
   ],
   "source": [
    "row_clusters_ward = linkage(df_scaled.values, method='ward', metric='euclidean')\n",
    "row_dendr_ward = dendrogram(row_clusters_ward)\n",
    "print(row_dendr_ward)"
   ]
  },
  {
   "cell_type": "code",
   "execution_count": 131,
   "metadata": {
    "pycharm": {
     "is_executing": false,
     "name": "#%%\n"
    }
   },
   "outputs": [
    {
     "name": "stdout",
     "output_type": "stream",
     "text": [
      "Label assignment => [1 1 1 1 0 0 0 0 0 0 0 2 2 2 2 2]\n"
     ]
    }
   ],
   "source": [
    "ac_ward = AgglomerativeClustering(n_clusters=3, affinity='euclidean', linkage='ward')\n",
    "labels_ward = ac_ward.fit_predict(df_scaled.values)\n",
    "print('Label assignment =>', labels_ward)"
   ]
  },
  {
   "cell_type": "markdown",
   "metadata": {},
   "source": [
    "###### Comparison of Complete linkage & Ward linkage methods\n",
    "- The dendrogram for Complete linkage indicates a potential cluster count of either 2, 3 or 4, & is not very differentiating in identifying the optimal number of clusters.\n",
    "- The dendrogram for Ward linkage clearly highlights the potential cluster count as 3.\n",
    "- There are minor differences in the cluster assignments between these 2 methods for few items (#9, #10, #11).\n"
   ]
  }
 ],
 "metadata": {
  "kernelspec": {
   "display_name": "Python 3",
   "language": "python",
   "name": "python3"
  },
  "language_info": {
   "codemirror_mode": {
    "name": "ipython",
    "version": 3
   },
   "file_extension": ".py",
   "mimetype": "text/x-python",
   "name": "python",
   "nbconvert_exporter": "python",
   "pygments_lexer": "ipython3",
   "version": "3.7.4"
  },
  "pycharm": {
   "stem_cell": {
    "cell_type": "raw",
    "metadata": {
     "collapsed": false
    },
    "source": []
   }
  }
 },
 "nbformat": 4,
 "nbformat_minor": 1
}
