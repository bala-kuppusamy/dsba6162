{
 "cells": [
  {
   "cell_type": "code",
   "execution_count": 1,
   "metadata": {
    "pycharm": {
     "is_executing": false
    }
   },
   "outputs": [],
   "source": [
    "import os\n",
    "import pandas as pd\n",
    "import statsmodels.formula.api as smf\n",
    "import statsmodels.api as sm\n",
    "from pandas import DataFrame\n",
    "\n",
    "import seaborn as sns\n",
    "sns.set(style='ticks', color_codes=True)\n",
    "\n",
    "import warnings\n",
    "warnings.filterwarnings(\"ignore\")"
   ]
  },
  {
   "cell_type": "markdown",
   "metadata": {},
   "source": [
    "#### Read dataset from pickle file"
   ]
  },
  {
   "cell_type": "code",
   "execution_count": 2,
   "outputs": [],
   "source": [
    "# the pwd assignment is needed for using it via docker.\n",
    "# absolute path as interpreted by the container has to be specified\n",
    "pwd: str = os.environ['HOME'] + '/work/assignment/assignment-3'"
   ],
   "metadata": {
    "collapsed": false,
    "pycharm": {
     "name": "#%%\n",
     "is_executing": false
    }
   }
  },
  {
   "cell_type": "code",
   "execution_count": 3,
   "metadata": {
    "pycharm": {
     "name": "#%%\n",
     "is_executing": false
    }
   },
   "outputs": [
    {
     "name": "stdout",
     "text": [
      "(265, 12)\n"
     ],
     "output_type": "stream"
    }
   ],
   "source": [
    "master: DataFrame = pd.read_pickle(pwd + '/chamorro.pickle')\n",
    "print(master.shape)"
   ]
  },
  {
   "cell_type": "markdown",
   "metadata": {},
   "source": [
    "#### Model #1 - Run Linear Regression"
   ]
  },
  {
   "cell_type": "code",
   "execution_count": 4,
   "metadata": {
    "pycharm": {
     "name": "#%%\n",
     "is_executing": false
    }
   },
   "outputs": [
    {
     "name": "stdout",
     "text": [
      "                            OLS Regression Results                            \n==============================================================================\nDep. Variable:               lectureN   R-squared:                       0.033\nModel:                            OLS   Adj. R-squared:                  0.025\nMethod:                 Least Squares   F-statistic:                     4.426\nDate:                Mon, 10 Feb 2020   Prob (F-statistic):             0.0129\nTime:                        06:16:51   Log-Likelihood:                -970.83\nNo. Observations:                 265   AIC:                             1948.\nDf Residuals:                     262   BIC:                             1958.\nDf Model:                           2                                         \nCovariance Type:            nonrobust                                         \n==================================================================================\n                     coef    std err          t      P>|t|      [0.025      0.975]\n----------------------------------------------------------------------------------\nIntercept        -29.6900      3.184     -9.324      0.000     -35.960     -23.420\nGender[T.Male]     2.1310      1.318      1.617      0.107      -0.464       4.726\nAge                0.3736      0.155      2.418      0.016       0.069       0.678\n==============================================================================\nOmnibus:                      109.792   Durbin-Watson:                   1.913\nProb(Omnibus):                  0.000   Jarque-Bera (JB):              375.048\nSkew:                           1.802   Prob(JB):                     3.62e-82\nKurtosis:                       7.580   Cond. No.                         113.\n==============================================================================\n\nWarnings:\n[1] Standard Errors assume that the covariance matrix of the errors is correctly specified.\n"
     ],
     "output_type": "stream"
    }
   ],
   "source": [
    "model_1 = smf.ols('lectureN ~ Age + Gender', data=master)\n",
    "result_1 = model_1.fit()\n",
    "print(result_1.summary())\n"
   ]
  }
 ],
 "metadata": {
  "kernelspec": {
   "display_name": "Python 3",
   "language": "python",
   "name": "python3"
  },
  "language_info": {
   "codemirror_mode": {
    "name": "ipython",
    "version": 3
   },
   "file_extension": ".py",
   "mimetype": "text/x-python",
   "name": "python",
   "nbconvert_exporter": "python",
   "pygments_lexer": "ipython3",
   "version": "3.7.4"
  },
  "pycharm": {
   "stem_cell": {
    "cell_type": "raw",
    "source": [],
    "metadata": {
     "collapsed": false
    }
   }
  }
 },
 "nbformat": 4,
 "nbformat_minor": 1
}