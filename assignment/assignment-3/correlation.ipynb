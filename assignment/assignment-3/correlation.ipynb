{
 "cells": [
  {
   "cell_type": "code",
   "execution_count": 10,
   "metadata": {
    "pycharm": {
     "is_executing": false
    }
   },
   "outputs": [],
   "source": [
    "import os\n",
    "import pandas as pd\n",
    "import numpy as np\n",
    "import scipy.stats as stats\n",
    "from pandas import DataFrame\n",
    "\n",
    "import warnings\n",
    "warnings.filterwarnings(\"ignore\")"
   ]
  },
  {
   "cell_type": "markdown",
   "metadata": {},
   "source": [
    "#### Define functions"
   ]
  },
  {
   "cell_type": "code",
   "execution_count": 11,
   "outputs": [],
   "source": [
    "# the pwd assignment is needed for using it via docker.\n",
    "# absolute path as interpreted by the container has to be specified\n",
    "pwd: str = os.environ['HOME'] + '/work/assignment/assignment-3'"
   ],
   "metadata": {
    "collapsed": false,
    "pycharm": {
     "name": "#%%\n",
     "is_executing": false
    }
   }
  },
  {
   "cell_type": "code",
   "execution_count": 12,
   "metadata": {
    "pycharm": {
     "is_executing": false,
     "name": "#%%\n"
    }
   },
   "outputs": [],
   "source": [
    "def run_pearson(col_name: str, x: DataFrame, y: DataFrame) -> None:\n",
    "    _pearson = stats.pearsonr(x, y)\n",
    "    print(col_name, _pearson)"
   ]
  },
  {
   "cell_type": "markdown",
   "metadata": {},
   "source": [
    "#### Read dataset from file"
   ]
  },
  {
   "cell_type": "code",
   "execution_count": 13,
   "metadata": {
    "pycharm": {
     "is_executing": false,
     "name": "#%%\n"
    }
   },
   "outputs": [
    {
     "name": "stdout",
     "text": [
      "(430, 12)\n"
     ],
     "output_type": "stream"
    }
   ],
   "source": [
    "master: DataFrame = pd.read_csv(pwd + '/Chamorro-Premuzic.txt', delimiter='\\t', header='infer')\n",
    "print(master.shape)"
   ]
  },
  {
   "cell_type": "markdown",
   "metadata": {},
   "source": [
    "#### Remove empty rows"
   ]
  },
  {
   "cell_type": "code",
   "execution_count": 14,
   "metadata": {
    "pycharm": {
     "is_executing": false,
     "name": "#%%\n"
    }
   },
   "outputs": [
    {
     "name": "stdout",
     "text": [
      "(265, 12)\n<class 'pandas.core.frame.DataFrame'>\nInt64Index: 265 entries, 140 to 429\nData columns (total 12 columns):\n #   Column    Non-Null Count  Dtype \n---  ------    --------------  ----- \n 0   Age       265 non-null    object\n 1   Gender    265 non-null    object\n 2   studentN  265 non-null    object\n 3   studentE  265 non-null    object\n 4   studentO  265 non-null    object\n 5   studentA  265 non-null    object\n 6   studentC  265 non-null    object\n 7   lectureN  265 non-null    object\n 8   lecturE   265 non-null    object\n 9   lecturO   265 non-null    object\n 10  lecturA   265 non-null    object\n 11  lecturC   265 non-null    object\ndtypes: object(12)\nmemory usage: 26.9+ KB\nNone\n"
     ],
     "output_type": "stream"
    }
   ],
   "source": [
    "master_clean:DataFrame = master.replace(' ', np.nan)\n",
    "master_clean.dropna(inplace=True)\n",
    "print(master_clean.shape)\n",
    "print(master_clean.info(verbose=True))"
   ]
  },
  {
   "cell_type": "markdown",
   "metadata": {},
   "source": [
    "#### Fix datatype -> convert from string to numeric"
   ]
  },
  {
   "cell_type": "code",
   "execution_count": 15,
   "metadata": {
    "pycharm": {
     "is_executing": false,
     "name": "#%%\n"
    }
   },
   "outputs": [
    {
     "name": "stdout",
     "text": [
      "<class 'pandas.core.frame.DataFrame'>\nInt64Index: 265 entries, 140 to 429\nData columns (total 12 columns):\n #   Column    Non-Null Count  Dtype \n---  ------    --------------  ----- \n 0   Age       265 non-null    int64 \n 1   Gender    265 non-null    object\n 2   studentN  265 non-null    int64 \n 3   studentE  265 non-null    int64 \n 4   studentO  265 non-null    int64 \n 5   studentA  265 non-null    int64 \n 6   studentC  265 non-null    int64 \n 7   lectureN  265 non-null    int64 \n 8   lecturE   265 non-null    int64 \n 9   lecturO   265 non-null    int64 \n 10  lecturA   265 non-null    int64 \n 11  lecturC   265 non-null    int64 \ndtypes: int64(11), object(1)\nmemory usage: 26.9+ KB\nNone\n"
     ],
     "output_type": "stream"
    }
   ],
   "source": [
    "neaoc_cols = ['studentN', 'studentE', 'studentO', 'studentA', 'studentC', \n",
    "              'lectureN', 'lecturE', 'lecturO', 'lecturA', 'lecturC']\n",
    "\n",
    "for col in neaoc_cols:\n",
    "    master_clean[col] = pd.to_numeric(master_clean[col])\n",
    "master_clean['Age'] = pd.to_numeric(master_clean['Age'])\n",
    "\n",
    "print(master_clean.info(verbose=True))"
   ]
  },
  {
   "cell_type": "markdown",
   "metadata": {},
   "source": [
    "#### Store as pickle file"
   ]
  },
  {
   "cell_type": "code",
   "execution_count": 16,
   "metadata": {
    "pycharm": {
     "is_executing": false,
     "name": "#%%\n"
    }
   },
   "outputs": [
    {
     "name": "stdout",
     "text": [
      "DataFrame stored in pickle file...\n"
     ],
     "output_type": "stream"
    }
   ],
   "source": [
    "master_clean.to_pickle(pwd + '/chamorro.pickle')\n",
    "print('DataFrame stored in pickle file...')"
   ]
  },
  {
   "cell_type": "markdown",
   "metadata": {},
   "source": [
    "#### Run Pearson correlation"
   ]
  },
  {
   "cell_type": "code",
   "execution_count": 17,
   "metadata": {
    "pycharm": {
     "is_executing": false,
     "name": "#%%\n"
    }
   },
   "outputs": [
    {
     "name": "stdout",
     "text": [
      "          studentN  studentE  studentO  studentA  studentC  lectureN  \\\nstudentN  1.000000 -0.392148 -0.057693  0.042576 -0.228927  0.011883   \nstudentE -0.392148  1.000000  0.116627  0.045729  0.151575 -0.096558   \nstudentO -0.057693  0.116627  1.000000 -0.076873 -0.104455 -0.061201   \nstudentA  0.042576  0.045729 -0.076873  1.000000  0.518161  0.026070   \nstudentC -0.228927  0.151575 -0.104455  0.518161  1.000000 -0.145901   \nlectureN  0.011883 -0.096558 -0.061201  0.026070 -0.145901  1.000000   \nlecturE  -0.087296  0.153388  0.067395  0.078499  0.111401  0.024300   \nlecturO  -0.040738  0.053201  0.173611  0.072520 -0.022182  0.154833   \nlecturA   0.142149 -0.047464 -0.190644  0.143845  0.099064  0.107552   \nlecturC   0.052130 -0.009177 -0.082115  0.224247  0.210154 -0.208605   \n\n           lecturE   lecturO   lecturA   lecturC  \nstudentN -0.087296 -0.040738  0.142149  0.052130  \nstudentE  0.153388  0.053201 -0.047464 -0.009177  \nstudentO  0.067395  0.173611 -0.190644 -0.082115  \nstudentA  0.078499  0.072520  0.143845  0.224247  \nstudentC  0.111401 -0.022182  0.099064  0.210154  \nlectureN  0.024300  0.154833  0.107552 -0.208605  \nlecturE   1.000000  0.480161  0.131003  0.118692  \nlecturO   0.480161  1.000000  0.174650  0.007038  \nlecturA   0.131003  0.174650  1.000000  0.247719  \nlecturC   0.118692  0.007038  0.247719  1.000000  \n"
     ],
     "output_type": "stream"
    }
   ],
   "source": [
    "master_neaoc: DataFrame = master_clean[neaoc_cols]\n",
    "corr = master_neaoc.corr(method='pearson', min_periods=1)\n",
    "print(corr)"
   ]
  },
  {
   "cell_type": "markdown",
   "metadata": {},
   "source": [
    "#### Run Pearson correlation with p-values"
   ]
  },
  {
   "cell_type": "code",
   "execution_count": 18,
   "metadata": {
    "pycharm": {
     "is_executing": false,
     "name": "#%%\n"
    }
   },
   "outputs": [
    {
     "name": "stdout",
     "text": [
      "studentN <-> lectureN (0.011883373654499547, 0.8473195262857787)\nstudentE <-> lectureE (0.15338769731985202, 0.012420080123099518)\nstudentA <-> lectureA (0.14384530043469418, 0.019141745433299356)\nstudentO <-> lectureO (0.17361073541892263, 0.004591568765627554)\nstudentC <-> lectureC (0.21015383212162062, 0.0005744117789631553)\n"
     ],
     "output_type": "stream"
    }
   ],
   "source": [
    "run_pearson('studentN <-> lectureN', master_neaoc['studentN'], master_neaoc['lectureN'])\n",
    "run_pearson('studentE <-> lectureE', master_neaoc['studentE'], master_neaoc['lecturE'])\n",
    "run_pearson('studentA <-> lectureA', master_neaoc['studentA'], master_neaoc['lecturA'])\n",
    "run_pearson('studentO <-> lectureO', master_neaoc['studentO'], master_neaoc['lecturO'])\n",
    "run_pearson('studentC <-> lectureC', master_neaoc['studentC'], master_neaoc['lecturC'])"
   ]
  },
  {
   "cell_type": "code",
   "execution_count": 18,
   "metadata": {
    "pycharm": {
     "is_executing": false
    }
   },
   "outputs": [],
   "source": []
  }
 ],
 "metadata": {
  "kernelspec": {
   "display_name": "Python 3",
   "language": "python",
   "name": "python3"
  },
  "language_info": {
   "codemirror_mode": {
    "name": "ipython",
    "version": 3
   },
   "file_extension": ".py",
   "mimetype": "text/x-python",
   "name": "python",
   "nbconvert_exporter": "python",
   "pygments_lexer": "ipython3",
   "version": "3.7.4"
  },
  "pycharm": {
   "stem_cell": {
    "cell_type": "raw",
    "source": [],
    "metadata": {
     "collapsed": false
    }
   }
  }
 },
 "nbformat": 4,
 "nbformat_minor": 1
}