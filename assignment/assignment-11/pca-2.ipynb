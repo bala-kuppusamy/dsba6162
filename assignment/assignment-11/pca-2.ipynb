{
 "cells": [
  {
   "cell_type": "code",
   "execution_count": 56,
   "metadata": {
    "pycharm": {
     "is_executing": false,
     "name": "#%%\n"
    }
   },
   "outputs": [],
   "source": [
    "import os\n",
    "import pandas as pd\n",
    "\n",
    "from pandas import DataFrame\n",
    "\n",
    "from sklearn.decomposition import PCA\n",
    "\n",
    "import matplotlib.pyplot as plt\n",
    "import seaborn as sns\n",
    "sns.set()\n",
    "\n",
    "import warnings\n",
    "warnings.filterwarnings(\"ignore\")"
   ]
  },
  {
   "cell_type": "markdown",
   "metadata": {},
   "source": [
    "#### Define system constants"
   ]
  },
  {
   "cell_type": "code",
   "execution_count": null,
   "metadata": {
    "pycharm": {
     "is_executing": false,
     "name": "#%%\n"
    }
   },
   "outputs": [],
   "source": [
    "# working directory\n",
    "pwd: str = os.environ['HOME'] + '/work/assignment/assignment-11'\n",
    "file: str = pwd + '/NicholsNicki2004.txt'"
   ]
  },
  {
   "cell_type": "markdown",
   "metadata": {},
   "source": [
    "#### Read the data file"
   ]
  },
  {
   "cell_type": "code",
   "execution_count": 20,
   "metadata": {
    "pycharm": {
     "is_executing": false,
     "name": "#%%\n"
    }
   },
   "outputs": [
    {
     "name": "stdout",
     "output_type": "stream",
     "text": [
      "(207, 36)\n",
      "   ias1  ias2  ias3  ias4  ias5  ias6  ias7  ias8  ias9  ias10  ...  ias27  \\\n",
      "0     1     1     2     1     1     1     1     2     2      1  ...      3   \n",
      "1     2     1     3     1     2     1     1     2     1      1  ...      3   \n",
      "2     4     2     4     2     3     3     4     2     3      3  ...      3   \n",
      "3     1     1     3     1     1     1     1     2     1      1  ...      1   \n",
      "4     2     1     3     2     1     1     1     2     3      1  ...      3   \n",
      "\n",
      "   ias28  ias29  ias30  ias31  ias32  ias33  ias34  ias35  ias36  \n",
      "0      1      1      1      1      1      1      1      1      1  \n",
      "1      1      1      1      2      1      2      1      1      1  \n",
      "2      2      2      3      3      1      2      2      1      3  \n",
      "3      1      1      1      2      1      1      1      1      1  \n",
      "4      1      1      1      2      1      1      1      3      1  \n",
      "\n",
      "[5 rows x 36 columns]\n"
     ]
    }
   ],
   "source": [
    "df: DataFrame = pd.read_csv(file, sep='\\t')\n",
    "\n",
    "print(df.shape)\n",
    "print(df.head())"
   ]
  },
  {
   "cell_type": "markdown",
   "metadata": {},
   "source": [
    "#### Identify 2 attributes with lowest mean & variance"
   ]
  },
  {
   "cell_type": "code",
   "execution_count": 17,
   "metadata": {
    "collapsed": true,
    "pycharm": {
     "is_executing": false
    }
   },
   "outputs": [
    {
     "name": "stdout",
     "output_type": "stream",
     "text": [
      "ias34    1.111111\n",
      "ias23    1.144928\n",
      "ias6     1.222222\n",
      "ias29    1.227053\n",
      "ias15    1.231884\n",
      "dtype: float64\n"
     ]
    }
   ],
   "source": [
    "mean = df.mean()\n",
    "print(mean.sort_values(ascending=True).head())"
   ]
  },
  {
   "cell_type": "code",
   "execution_count": 18,
   "metadata": {
    "pycharm": {
     "is_executing": false,
     "name": "#%%\n"
    }
   },
   "outputs": [
    {
     "name": "stdout",
     "output_type": "stream",
     "text": [
      "ias34    0.118662\n",
      "ias23    0.182778\n",
      "ias15    0.266357\n",
      "ias28    0.317480\n",
      "ias6     0.319310\n",
      "dtype: float64\n"
     ]
    }
   ],
   "source": [
    "var = df.var()\n",
    "print(var.sort_values(ascending=True).head())"
   ]
  },
  {
   "cell_type": "markdown",
   "metadata": {},
   "source": [
    "#### 2 Attributes with low mean & variance\n",
    "- ias34 *(mean = 1.111, variance = 0.118)*\n",
    "- ias23 *(mean = 1.144, variance = 0.182)*"
   ]
  },
  {
   "cell_type": "markdown",
   "metadata": {},
   "source": [
    "#### Drop the 2 attributes with lowest mean & variance from the dataset"
   ]
  },
  {
   "cell_type": "code",
   "execution_count": 27,
   "metadata": {
    "pycharm": {
     "is_executing": false,
     "name": "#%%\n"
    }
   },
   "outputs": [
    {
     "name": "stdout",
     "output_type": "stream",
     "text": [
      "(207, 34)\n"
     ]
    }
   ],
   "source": [
    "df_2: DataFrame = df.drop(columns=['ias34', 'ias23'])\n",
    "print(df_2.shape)"
   ]
  },
  {
   "cell_type": "markdown",
   "metadata": {},
   "source": [
    "#### Correlation matrix for the remaining 34 attributes"
   ]
  },
  {
   "cell_type": "code",
   "execution_count": 28,
   "metadata": {
    "pycharm": {
     "is_executing": false,
     "name": "#%%\n"
    }
   },
   "outputs": [
    {
     "name": "stdout",
     "output_type": "stream",
     "text": [
      "           ias1      ias2      ias3      ias4      ias5      ias6      ias7  \\\n",
      "ias1   1.000000  0.427736  0.462768  0.354683  0.517041  0.558645  0.478892   \n",
      "ias2   0.427736  1.000000  0.330520  0.541461  0.379329  0.239192  0.394668   \n",
      "ias3   0.462768  0.330520  1.000000  0.518899  0.474619  0.405834  0.485200   \n",
      "ias4   0.354683  0.541461  0.518899  1.000000  0.462147  0.266996  0.451263   \n",
      "ias5   0.517041  0.379329  0.474619  0.462147  1.000000  0.481312  0.429718   \n",
      "ias6   0.558645  0.239192  0.405834  0.266996  0.481312  1.000000  0.497405   \n",
      "ias7   0.478892  0.394668  0.485200  0.451263  0.429718  0.497405  1.000000   \n",
      "ias8   0.476363  0.316346  0.624529  0.444075  0.588049  0.433835  0.465954   \n",
      "ias9   0.512624  0.285332  0.500271  0.369303  0.508687  0.499149  0.541858   \n",
      "ias10  0.431542  0.295806  0.401046  0.370661  0.520405  0.587692  0.601882   \n",
      "ias11  0.418803  0.260113  0.428615  0.266908  0.336068  0.420593  0.407984   \n",
      "ias12  0.426479  0.317615  0.456818  0.441042  0.437743  0.502373  0.601532   \n",
      "ias13  0.124036  0.372073  0.194782  0.306512  0.237406  0.103051  0.222779   \n",
      "ias14  0.491962  0.379893  0.397842  0.358068  0.401625  0.438143  0.370700   \n",
      "ias15  0.509146  0.351126  0.423629  0.265769  0.371215  0.388393  0.358756   \n",
      "ias16  0.515407  0.304038  0.402412  0.306861  0.356878  0.386070  0.269290   \n",
      "ias17  0.350424  0.251870  0.385572  0.287606  0.403659  0.501472  0.497956   \n",
      "ias18  0.469139  0.277870  0.358034  0.338143  0.467455  0.385915  0.550950   \n",
      "ias19  0.464207  0.280455  0.651083  0.424867  0.510969  0.493863  0.436590   \n",
      "ias20  0.484599  0.293493  0.444332  0.416140  0.465990  0.445903  0.531041   \n",
      "ias21  0.468674  0.294715  0.448443  0.359000  0.516034  0.485460  0.550832   \n",
      "ias22  0.158137  0.145824  0.176206  0.146355  0.151561  0.162702  0.146782   \n",
      "ias24  0.416092  0.309955  0.599004  0.407175  0.491484  0.383986  0.492671   \n",
      "ias25  0.454009  0.257624  0.350893  0.370450  0.474929  0.358818  0.394313   \n",
      "ias26  0.520175  0.284461  0.440439  0.273065  0.432891  0.645433  0.441219   \n",
      "ias27  0.397178  0.287707  0.390915  0.258987  0.348148  0.325130  0.368297   \n",
      "ias28  0.492634  0.195700  0.366488  0.219217  0.385675  0.565812  0.421132   \n",
      "ias29  0.540865  0.324781  0.398712  0.425301  0.554956  0.462595  0.480307   \n",
      "ias30  0.473830  0.303772  0.417714  0.393186  0.471142  0.423761  0.409551   \n",
      "ias31  0.325764  0.240185  0.514334  0.276573  0.331626  0.280543  0.326567   \n",
      "ias32  0.222556  0.149004  0.259528  0.173678  0.250465  0.357838  0.141842   \n",
      "ias33  0.499462  0.362779  0.449447  0.471634  0.602522  0.353481  0.497770   \n",
      "ias35  0.380204  0.265065  0.425957  0.250178  0.420797  0.264406  0.250955   \n",
      "ias36  0.485681  0.317826  0.461002  0.350016  0.469125  0.511114  0.660880   \n",
      "\n",
      "           ias8      ias9     ias10  ...     ias26     ias27     ias28  \\\n",
      "ias1   0.476363  0.512624  0.431542  ...  0.520175  0.397178  0.492634   \n",
      "ias2   0.316346  0.285332  0.295806  ...  0.284461  0.287707  0.195700   \n",
      "ias3   0.624529  0.500271  0.401046  ...  0.440439  0.390915  0.366488   \n",
      "ias4   0.444075  0.369303  0.370661  ...  0.273065  0.258987  0.219217   \n",
      "ias5   0.588049  0.508687  0.520405  ...  0.432891  0.348148  0.385675   \n",
      "ias6   0.433835  0.499149  0.587692  ...  0.645433  0.325130  0.565812   \n",
      "ias7   0.465954  0.541858  0.601882  ...  0.441219  0.368297  0.421132   \n",
      "ias8   1.000000  0.630128  0.479893  ...  0.473832  0.400799  0.494156   \n",
      "ias9   0.630128  1.000000  0.555241  ...  0.458150  0.343674  0.500715   \n",
      "ias10  0.479893  0.555241  1.000000  ...  0.513612  0.282541  0.476943   \n",
      "ias11  0.434744  0.439885  0.513844  ...  0.572437  0.359785  0.576448   \n",
      "ias12  0.540750  0.487878  0.636484  ...  0.534139  0.272353  0.472484   \n",
      "ias13  0.235583  0.210040  0.208713  ...  0.139385  0.178988  0.187124   \n",
      "ias14  0.420761  0.448731  0.494793  ...  0.533501  0.399868  0.506398   \n",
      "ias15  0.423555  0.454797  0.444358  ...  0.648834  0.405559  0.711764   \n",
      "ias16  0.418536  0.343217  0.249636  ...  0.488769  0.360135  0.438041   \n",
      "ias17  0.427456  0.501846  0.574666  ...  0.542254  0.167287  0.427367   \n",
      "ias18  0.459914  0.537954  0.576260  ...  0.513394  0.241011  0.513229   \n",
      "ias19  0.633020  0.484445  0.490328  ...  0.598200  0.383809  0.530749   \n",
      "ias20  0.530823  0.516395  0.558987  ...  0.622135  0.338626  0.608756   \n",
      "ias21  0.566149  0.631432  0.581776  ...  0.546190  0.256754  0.542958   \n",
      "ias22  0.291136  0.104965  0.216922  ...  0.275651  0.178581  0.323744   \n",
      "ias24  0.537484  0.510918  0.450237  ...  0.466994  0.442288  0.459784   \n",
      "ias25  0.507678  0.405041  0.402750  ...  0.480692  0.386978  0.519004   \n",
      "ias26  0.473832  0.458150  0.513612  ...  1.000000  0.414422  0.757444   \n",
      "ias27  0.400799  0.343674  0.282541  ...  0.414422  1.000000  0.459877   \n",
      "ias28  0.494156  0.500715  0.476943  ...  0.757444  0.459877  1.000000   \n",
      "ias29  0.454110  0.509045  0.580848  ...  0.563715  0.324576  0.559864   \n",
      "ias30  0.429113  0.411714  0.376447  ...  0.469119  0.245234  0.386880   \n",
      "ias31  0.391767  0.302359  0.299346  ...  0.251644  0.386764  0.224734   \n",
      "ias32  0.232004  0.133324  0.267393  ...  0.282806  0.149730  0.304954   \n",
      "ias33  0.492488  0.527294  0.465893  ...  0.491570  0.374153  0.411420   \n",
      "ias35  0.470186  0.248491  0.272484  ...  0.522116  0.408097  0.454578   \n",
      "ias36  0.560788  0.552393  0.637209  ...  0.635390  0.346613  0.648224   \n",
      "\n",
      "          ias29     ias30     ias31     ias32     ias33     ias35     ias36  \n",
      "ias1   0.540865  0.473830  0.325764  0.222556  0.499462  0.380204  0.485681  \n",
      "ias2   0.324781  0.303772  0.240185  0.149004  0.362779  0.265065  0.317826  \n",
      "ias3   0.398712  0.417714  0.514334  0.259528  0.449447  0.425957  0.461002  \n",
      "ias4   0.425301  0.393186  0.276573  0.173678  0.471634  0.250178  0.350016  \n",
      "ias5   0.554956  0.471142  0.331626  0.250465  0.602522  0.420797  0.469125  \n",
      "ias6   0.462595  0.423761  0.280543  0.357838  0.353481  0.264406  0.511114  \n",
      "ias7   0.480307  0.409551  0.326567  0.141842  0.497770  0.250955  0.660880  \n",
      "ias8   0.454110  0.429113  0.391767  0.232004  0.492488  0.470186  0.560788  \n",
      "ias9   0.509045  0.411714  0.302359  0.133324  0.527294  0.248491  0.552393  \n",
      "ias10  0.580848  0.376447  0.299346  0.267393  0.465893  0.272484  0.637209  \n",
      "ias11  0.447390  0.355894  0.302411  0.185715  0.438711  0.307454  0.491157  \n",
      "ias12  0.532982  0.428302  0.343209  0.215048  0.461150  0.249062  0.559061  \n",
      "ias13  0.186328  0.208079  0.168087  0.257317  0.234697  0.156966  0.201102  \n",
      "ias14  0.471762  0.453562  0.305185  0.298474  0.432950  0.446010  0.540022  \n",
      "ias15  0.465814  0.393114  0.275052  0.223123  0.466180  0.434814  0.567158  \n",
      "ias16  0.442344  0.342980  0.219729  0.270939  0.346893  0.347646  0.388808  \n",
      "ias17  0.482797  0.418513  0.289021  0.264927  0.364681  0.258425  0.584953  \n",
      "ias18  0.568109  0.432783  0.176458  0.126945  0.548223  0.349432  0.652867  \n",
      "ias19  0.464403  0.515473  0.421924  0.235889  0.442213  0.459980  0.571210  \n",
      "ias20  0.706230  0.455669  0.346874  0.300322  0.623776  0.447901  0.691380  \n",
      "ias21  0.540566  0.502280  0.356900  0.257169  0.537837  0.244358  0.588344  \n",
      "ias22  0.184795  0.280612  0.158452  0.330678  0.154692  0.262395  0.267740  \n",
      "ias24  0.490325  0.545786  0.551952  0.207708  0.458291  0.421342  0.491995  \n",
      "ias25  0.525006  0.432998  0.273618  0.207233  0.527510  0.484635  0.508087  \n",
      "ias26  0.563715  0.469119  0.251644  0.282806  0.491570  0.522116  0.635390  \n",
      "ias27  0.324576  0.245234  0.386764  0.149730  0.374153  0.408097  0.346613  \n",
      "ias28  0.559864  0.386880  0.224734  0.304954  0.411420  0.454578  0.648224  \n",
      "ias29  1.000000  0.448615  0.277178  0.255780  0.679654  0.380244  0.636818  \n",
      "ias30  0.448615  1.000000  0.433360  0.326201  0.427051  0.308494  0.486415  \n",
      "ias31  0.277178  0.433360  1.000000  0.201641  0.330060  0.325667  0.348351  \n",
      "ias32  0.255780  0.326201  0.201641  1.000000  0.259626  0.259058  0.190017  \n",
      "ias33  0.679654  0.427051  0.330060  0.259626  1.000000  0.365127  0.517423  \n",
      "ias35  0.380244  0.308494  0.325667  0.259058  0.365127  1.000000  0.428168  \n",
      "ias36  0.636818  0.486415  0.348351  0.190017  0.517423  0.428168  1.000000  \n",
      "\n",
      "[34 rows x 34 columns]\n"
     ]
    }
   ],
   "source": [
    "corr: DataFrame = df_2.corr()\n",
    "print(corr)"
   ]
  },
  {
   "cell_type": "markdown",
   "metadata": {},
   "source": [
    "#### Identify 3 attributes having lowest correlation with other attributes\n",
    "\n",
    "Reference: <https://stackoverflow.com/questions/17778394/list-highest-correlation-pairs-from-a-large-correlation-matrix-in-pandas>"
   ]
  },
  {
   "cell_type": "code",
   "execution_count": 54,
   "metadata": {
    "pycharm": {
     "is_executing": false,
     "name": "#%%\n"
    }
   },
   "outputs": [
    {
     "name": "stdout",
     "output_type": "stream",
     "text": [
      "ias13  ias16    0.099147\n",
      "ias16  ias13    0.099147\n",
      "ias13  ias6     0.103051\n",
      "ias6   ias13    0.103051\n",
      "ias9   ias22    0.104965\n",
      "ias22  ias9     0.104965\n",
      "ias15  ias13    0.112263\n",
      "ias13  ias15    0.112263\n",
      "       ias17    0.120179\n",
      "ias17  ias13    0.120179\n",
      "dtype: float64\n"
     ]
    }
   ],
   "source": [
    "pairs = corr.abs().unstack()\n",
    "pairs_sorted = pairs.sort_values(kind='quicksort')\n",
    "\n",
    "print(pairs_sorted.head(10))"
   ]
  },
  {
   "cell_type": "markdown",
   "metadata": {},
   "source": [
    "#### 3 Attributes with low correlations\n",
    "- ias13 & ias16 *(corr = 0.099)*\n",
    "- ias13 & ias6 *(corr = 0.103)*"
   ]
  },
  {
   "cell_type": "markdown",
   "metadata": {},
   "source": [
    "#### Drop the 3 attributes with lowest correlation from the dataset"
   ]
  },
  {
   "cell_type": "code",
   "execution_count": 35,
   "metadata": {
    "pycharm": {
     "is_executing": false,
     "name": "#%%\n"
    }
   },
   "outputs": [
    {
     "name": "stdout",
     "output_type": "stream",
     "text": [
      "(207, 31)\n"
     ]
    }
   ],
   "source": [
    "df_3: DataFrame = df_2.drop(columns=['ias13', 'ias16', 'ias6'])\n",
    "print(df_3.shape)"
   ]
  },
  {
   "cell_type": "markdown",
   "metadata": {},
   "source": [
    "#### Run PCA for all 31 components"
   ]
  },
  {
   "cell_type": "code",
   "execution_count": 40,
   "metadata": {
    "pycharm": {
     "is_executing": false,
     "name": "#%%\n"
    }
   },
   "outputs": [],
   "source": [
    "pca = PCA(n_components=31)\n",
    "pca.fit(df_3)"
   ]
  },
  {
   "cell_type": "code",
   "execution_count": 49,
   "metadata": {
    "pycharm": {
     "is_executing": false,
     "name": "#%%\n"
    }
   },
   "outputs": [
    {
     "name": "stdout",
     "output_type": "stream",
     "text": [
      "Explained variance =>  [9.2681561  1.23033901 1.11401475 0.93772474 0.85308408 0.76245672\n",
      " 0.58719202 0.56716504 0.49754411 0.48581014 0.45560318 0.3842445\n",
      " 0.36666026 0.35734082 0.32349705 0.29732644 0.28530487 0.26169806\n",
      " 0.23432217 0.23018508 0.2077799  0.19547558 0.18048462 0.16334682\n",
      " 0.14598061 0.13515158 0.10766817 0.08987661 0.07674352 0.06385759\n",
      " 0.04419521]\n",
      "Explained variance-ratio =>  [0.44323551 0.0588391  0.05327607 0.04484526 0.04079745 0.03646334\n",
      " 0.02808157 0.02712381 0.02379429 0.02323313 0.02178853 0.01837591\n",
      " 0.01753497 0.01708928 0.01547076 0.01421919 0.01364427 0.01251531\n",
      " 0.0112061  0.01100825 0.00993676 0.00934832 0.0086314  0.00781181\n",
      " 0.0069813  0.00646342 0.00514907 0.00429821 0.00367014 0.00305389\n",
      " 0.00211357]\n"
     ]
    }
   ],
   "source": [
    "print('Explained variance => ', pca.explained_variance_)\n",
    "print('Explained variance-ratio => ', pca.explained_variance_ratio_)"
   ]
  },
  {
   "cell_type": "markdown",
   "metadata": {},
   "source": [
    "#### Run PCA for the retained components **(3)**\n",
    "- 3 components satisfied the Kaiser's criterion *(Eigenvalue > 1)*"
   ]
  },
  {
   "cell_type": "code",
   "execution_count": 46,
   "metadata": {
    "pycharm": {
     "is_executing": false,
     "name": "#%%\n"
    }
   },
   "outputs": [
    {
     "data": {
      "text/plain": [
       "PCA(copy=True, iterated_power='auto', n_components=3, random_state=None,\n",
       "    svd_solver='auto', tol=0.0, whiten=False)"
      ]
     },
     "execution_count": 46,
     "metadata": {},
     "output_type": "execute_result"
    }
   ],
   "source": [
    "pca_2 = PCA(n_components=3)\n",
    "pca_2.fit(df_3)"
   ]
  },
  {
   "cell_type": "code",
   "execution_count": 53,
   "metadata": {
    "pycharm": {
     "is_executing": false,
     "name": "#%%\n"
    }
   },
   "outputs": [
    {
     "name": "stdout",
     "output_type": "stream",
     "text": [
      "Explained variance =>  [9.2681561  1.23033901 1.11401475]\n",
      "Explained variance-ratio =>  [0.44323551 0.0588391  0.05327607]\n",
      "Components =>  [[ 0.18418187  0.15262286  0.2611325   0.21444265  0.19724165  0.18331243\n",
      "   0.29153402  0.22830758  0.15973791  0.1602521   0.20320789  0.13614779\n",
      "   0.10775335  0.13902379  0.15005569  0.23878156  0.15838052  0.23680553\n",
      "   0.06985409  0.23885156  0.14753276  0.1326409   0.175471    0.12504789\n",
      "   0.13244358  0.1712365   0.18871614  0.10417555  0.17390368  0.1543113\n",
      "   0.1456827 ]\n",
      " [ 0.03151018 -0.14429863 -0.35076446 -0.20249576  0.00250296  0.12752447\n",
      "  -0.05642483  0.21318486  0.2066885   0.11677369  0.19616905  0.02710681\n",
      "   0.04776372  0.19697278  0.24176355 -0.09411445  0.12702836  0.28295274\n",
      "   0.00537876 -0.16201513  0.04191762  0.1042607  -0.30478604  0.12274852\n",
      "   0.12324018 -0.01650091 -0.47566878 -0.04200516  0.07154983 -0.18696842\n",
      "   0.13658974]\n",
      " [ 0.0298033   0.47777717  0.03619469  0.65658938  0.10482261  0.14218625\n",
      "  -0.04642978  0.03350843  0.01605047 -0.14309179  0.06669255 -0.03653105\n",
      "  -0.07963275 -0.02358992  0.01534009 -0.11738347 -0.03975596 -0.03101791\n",
      "  -0.12782167 -0.13044947 -0.06233799 -0.12828718 -0.21428597 -0.17468917\n",
      "   0.02190264 -0.02077822 -0.20213324 -0.1608102   0.08615269 -0.21574852\n",
      "  -0.04727621]]\n"
     ]
    }
   ],
   "source": [
    "print('Explained variance => ', pca_2.explained_variance_)\n",
    "print('Explained variance-ratio => ', pca_2.explained_variance_ratio_)\n",
    "print('Components => ', pca_2.components_)"
   ]
  },
  {
   "cell_type": "markdown",
   "metadata": {},
   "source": [
    "#### Visualize the contribution of the 31 attributes to each of the retained components"
   ]
  },
  {
   "cell_type": "code",
   "execution_count": 58,
   "metadata": {
    "pycharm": {
     "is_executing": false,
     "name": "#%%\n"
    }
   },
   "outputs": [
    {
     "data": {
      "image/png": "[encoded data removed]",
      "text/plain": [
       "<Figure size 1152x144 with 2 Axes>"
      ]
     },
     "metadata": {},
     "output_type": "display_data"
    }
   ],
   "source": [
    "plt.matshow(pca_2.components_, cmap='viridis')\n",
    "plt.yticks([0,1,2],['1st Comp','2nd Comp','3rd Comp'], fontsize=10)\n",
    "plt.colorbar()\n",
    "plt.xticks(range(len(df_3.columns)), df_3.columns, rotation=65, ha='left')\n",
    "plt.show()\n"
   ]
  }
 ],
 "metadata": {
  "kernelspec": {
   "display_name": "Python 3",
   "language": "python",
   "name": "python3"
  },
  "language_info": {
   "codemirror_mode": {
    "name": "ipython",
    "version": 3
   },
   "file_extension": ".py",
   "mimetype": "text/x-python",
   "name": "python",
   "nbconvert_exporter": "python",
   "pygments_lexer": "ipython3",
   "version": "3.7.4"
  },
  "pycharm": {
   "stem_cell": {
    "cell_type": "raw",
    "metadata": {
     "collapsed": false
    },
    "source": []
   }
  }
 },
 "nbformat": 4,
 "nbformat_minor": 1
}
