{
 "cells": [
  {
   "cell_type": "code",
   "execution_count": 1,
   "metadata": {
    "pycharm": {
     "is_executing": false
    }
   },
   "outputs": [],
   "source": [
    "# We are accessing a built in dataset called 20NG dataset, which contains 18,000 news posts on 20 categories. \n",
    "# We will only use 4-category subset in this demo.\n",
    "import numpy as np\n",
    "\n",
    "from sklearn.metrics import confusion_matrix, accuracy_score\n",
    "from sklearn.naive_bayes import GaussianNB\n",
    "from sklearn.pipeline import make_pipeline\n",
    "from sklearn.decomposition import TruncatedSVD\n",
    "from sklearn.preprocessing import Normalizer\n",
    "from sklearn.feature_extraction.text import TfidfVectorizer\n",
    "\n",
    "from sklearn.datasets import fetch_20newsgroups"
   ]
  },
  {
   "cell_type": "code",
   "execution_count": 2,
   "outputs": [],
   "source": [
    "categories = [\n",
    "    'alt.atheism',\n",
    "    'talk.religion.misc',\n",
    "    'comp.graphics',\n",
    "    'sci.space',\n",
    "]\n",
    "\n",
    "dataset = fetch_20newsgroups(subset='all', categories=categories, shuffle=True, random_state=42)\n",
    "\n",
    "labels = dataset.target\n",
    "true_k = np.unique(labels).shape[0]\n",
    "data = dataset.data  "
   ],
   "metadata": {
    "collapsed": false,
    "pycharm": {
     "name": "#%%\n",
     "is_executing": false
    }
   }
  },
  {
   "cell_type": "code",
   "execution_count": 3,
   "metadata": {
    "pycharm": {
     "is_executing": false
    }
   },
   "outputs": [
    {
     "data": {
      "text/plain": "(3387,)"
     },
     "metadata": {},
     "output_type": "execute_result",
     "execution_count": 3
    }
   ],
   "source": [
    "labels.shape"
   ]
  },
  {
   "cell_type": "code",
   "execution_count": 4,
   "metadata": {
    "pycharm": {
     "is_executing": false
    }
   },
   "outputs": [
    {
     "data": {
      "text/plain": "sklearn.utils.Bunch"
     },
     "metadata": {},
     "output_type": "execute_result",
     "execution_count": 4
    }
   ],
   "source": [
    "type(dataset)"
   ]
  },
  {
   "cell_type": "code",
   "execution_count": 5,
   "metadata": {
    "pycharm": {
     "is_executing": false
    }
   },
   "outputs": [],
   "source": [
    "# This is to vectorize the text corpus. After these codes, the X object will be the input vector for machine learning models.\n",
    "# When transform into vectors, we do NOT use the raw count of a word in a document. Instead, we use the word's tf-idf score in a document.\n",
    "# max_df=0.5 means ignoring words that appear in more than 50% of the documents; min_df=2 means ignoring words that appear in less than 2 documents.\n",
    "\n",
    "vectorizer = TfidfVectorizer(max_df=0.5, min_df=2, stop_words='english', use_idf=True)\n",
    "\n",
    "X = vectorizer.fit_transform(data)"
   ]
  },
  {
   "cell_type": "code",
   "execution_count": 6,
   "metadata": {
    "pycharm": {
     "is_executing": false
    }
   },
   "outputs": [],
   "source": [
    "# X in the previous step is hi-dimentional data, we need to use some dimentionality reduction technique. \n",
    "# In this case, we will use SVD (Singular Value Decomposition), which is a common matrix decomposition technique.\n",
    "# We want to reduce the dimentionality to 5.\n",
    "# We have to re-normalize after we run our SVD on the dataset.\n",
    "\n",
    "n_components = 5\n",
    "svd = TruncatedSVD(n_components)\n",
    "normalizer = Normalizer(copy=False)\n",
    "lsa = make_pipeline(svd, normalizer)\n",
    "\n",
    "X = lsa.fit_transform(X)"
   ]
  },
  {
   "cell_type": "code",
   "execution_count": 7,
   "metadata": {
    "pycharm": {
     "is_executing": false
    }
   },
   "outputs": [
    {
     "data": {
      "text/plain": "(3387, 5)"
     },
     "metadata": {},
     "output_type": "execute_result",
     "execution_count": 7
    }
   ],
   "source": [
    "X.shape"
   ]
  },
  {
   "cell_type": "code",
   "execution_count": 8,
   "metadata": {
    "pycharm": {
     "is_executing": false
    }
   },
   "outputs": [],
   "source": [
    "# Randomly select 80% (3387*80% = 2710) rows from X as the training set\n",
    "training_idx = np.random.choice(X.shape[0], size=2710, replace=False)\n",
    "X_training = X[training_idx, :]"
   ]
  },
  {
   "cell_type": "code",
   "execution_count": 9,
   "metadata": {
    "pycharm": {
     "is_executing": false
    }
   },
   "outputs": [],
   "source": [
    "# The remaining is the test set\n",
    "test_idx = list(set(range(X.shape[0])) - set(training_idx))\n",
    "X_test = X[test_idx, :]"
   ]
  },
  {
   "cell_type": "code",
   "execution_count": 10,
   "metadata": {
    "pycharm": {
     "is_executing": false
    }
   },
   "outputs": [],
   "source": [
    "# The same split for the labels list\n",
    "labels_training = [labels[i] for i in training_idx]\n",
    "labels_test = [labels[j] for j in test_idx]"
   ]
  },
  {
   "cell_type": "code",
   "execution_count": 11,
   "metadata": {
    "pycharm": {
     "is_executing": false
    }
   },
   "outputs": [
    {
     "data": {
      "text/plain": "GaussianNB(priors=None, var_smoothing=1e-09)"
     },
     "metadata": {},
     "output_type": "execute_result",
     "execution_count": 11
    }
   ],
   "source": [
    "# This is to use Naive Bayes Classifier to predict the label of each news article.\n",
    "gnb = GaussianNB()\n",
    "gnb.fit(X_training, labels_training)"
   ]
  },
  {
   "cell_type": "code",
   "execution_count": 12,
   "metadata": {
    "scrolled": true,
    "pycharm": {
     "is_executing": false
    }
   },
   "outputs": [
    {
     "data": {
      "text/plain": "array([3, 1, 2, 2, 1, 3, 0, 2, 2, 0, 0, 0, 2, 1, 1, 3, 1, 1, 2, 3, 2, 2,\n       2, 2, 0, 1, 1, 1, 1, 2, 2, 0, 3, 2, 2, 1, 1, 1, 1, 2, 2, 1, 0, 0,\n       1, 0, 1, 1, 3, 3, 1, 1, 2, 3, 1, 2, 3, 1, 1, 1, 2, 1, 0, 3, 3, 3,\n       0, 3, 2, 1, 1, 1, 3, 1, 0, 2, 2, 1, 0, 3, 1, 3, 0, 2, 2, 1, 1, 2,\n       0, 1, 2, 2, 2, 0, 0, 3, 2, 2, 2, 1, 3, 1, 2, 2, 2, 3, 2, 3, 2, 3,\n       2, 3, 1, 0, 3, 1, 2, 3, 3, 1, 2, 0, 3, 3, 0, 0, 3, 0, 2, 2, 2, 2,\n       2, 1, 2, 2, 0, 1, 0, 3, 1, 0, 1, 2, 2, 2, 2, 1, 1, 3, 2, 1, 3, 3,\n       1, 0, 0, 1, 2, 0, 1, 0, 0, 2, 2, 0, 2, 3, 3, 2, 2, 0, 0, 1, 2, 1,\n       2, 3, 0, 1, 2, 2, 0, 1, 1, 1, 2, 2, 1, 2, 3, 0, 2, 3, 1, 2, 2, 0,\n       0, 1, 1, 3, 1, 2, 2, 3, 1, 1, 1, 3, 2, 1, 2, 2, 1, 1, 2, 1, 1, 2,\n       0, 3, 3, 0, 1, 2, 3, 2, 0, 1, 0, 3, 2, 3, 2, 0, 0, 0, 2, 0, 3, 2,\n       2, 2, 2, 0, 0, 0, 2, 2, 1, 2, 0, 3, 1, 2, 1, 1, 2, 2, 1, 3, 0, 0,\n       2, 1, 3, 2, 1, 1, 2, 2, 0, 1, 0, 2, 2, 0, 1, 3, 3, 1, 3, 1, 0, 2,\n       2, 1, 0, 3, 1, 2, 2, 1, 2, 2, 1, 3, 0, 2, 2, 3, 1, 1, 3, 0, 1, 0,\n       1, 1, 3, 1, 1, 0, 2, 0, 0, 3, 2, 1, 1, 3, 0, 2, 3, 1, 3, 1, 1, 3,\n       2, 0, 3, 1, 1, 1, 0, 2, 1, 1, 0, 2, 1, 3, 1, 0, 1, 2, 1, 1, 3, 3,\n       1, 2, 2, 1, 3, 1, 0, 2, 3, 1, 1, 2, 2, 0, 0, 0, 3, 2, 1, 2, 3, 1,\n       2, 3, 3, 2, 1, 0, 0, 3, 1, 2, 3, 2, 2, 3, 0, 1, 0, 1, 0, 0, 3, 0,\n       3, 2, 0, 0, 2, 2, 1, 2, 2, 1, 2, 2, 1, 1, 1, 2, 2, 0, 3, 2, 0, 2,\n       2, 1, 3, 2, 3, 1, 3, 0, 1, 3, 0, 1, 2, 1, 1, 1, 3, 1, 1, 3, 3, 0,\n       2, 1, 0, 2, 2, 3, 3, 2, 2, 2, 3, 3, 1, 1, 2, 0, 2, 0, 0, 2, 1, 1,\n       3, 2, 3, 3, 3, 1, 2, 1, 0, 0, 1, 1, 2, 1, 3, 1, 3, 0, 0, 0, 0, 0,\n       1, 0, 3, 3, 0, 2, 0, 2, 2, 0, 0, 1, 1, 0, 1, 3, 0, 3, 3, 3, 0, 2,\n       0, 2, 2, 0, 2, 0, 2, 0, 0, 3, 3, 1, 2, 3, 3, 0, 3, 0, 0, 3, 3, 0,\n       0, 2, 0, 1, 0, 3, 1, 2, 3, 0, 2, 3, 3, 0, 0, 0, 0, 0, 1, 1, 2, 1,\n       1, 0, 2, 2, 2, 2, 0, 0, 0, 1, 1, 3, 1, 3, 2, 2, 1, 3, 0, 1, 2, 0,\n       3, 2, 1, 0, 2, 2, 1, 2, 0, 1, 1, 0, 2, 1, 2, 2, 1, 2, 0, 2, 3, 1,\n       3, 2, 0, 2, 2, 3, 2, 2, 2, 1, 3, 2, 1, 2, 0, 1, 2, 1, 0, 0, 0, 2,\n       3, 1, 1, 1, 1, 0, 0, 3, 1, 1, 1, 3, 1, 2, 3, 0, 0, 3, 2, 2, 1, 3,\n       0, 1, 0, 1, 2, 2, 2, 3, 2, 0, 1, 2, 1, 1, 3, 1, 3, 2, 1, 2, 1, 2,\n       1, 3, 1, 2, 2, 0, 1, 2, 1, 3, 3, 1, 0, 1, 3, 3, 2])"
     },
     "metadata": {},
     "output_type": "execute_result",
     "execution_count": 12
    }
   ],
   "source": [
    "# This is the prediction result.\n",
    "gnb.predict(X_test)"
   ]
  },
  {
   "cell_type": "code",
   "execution_count": 13,
   "metadata": {
    "pycharm": {
     "is_executing": false
    }
   },
   "outputs": [
    {
     "data": {
      "text/plain": "array([[120,   2,   2,  23],\n       [  3, 171,  14,   6],\n       [  1,  11, 181,   9],\n       [ 45,   6,   2,  81]])"
     },
     "metadata": {},
     "output_type": "execute_result",
     "execution_count": 13
    }
   ],
   "source": [
    "# This is the confusion matrix.\n",
    "confusion_matrix(gnb.predict(X_test),labels_test)"
   ]
  },
  {
   "cell_type": "code",
   "execution_count": 14,
   "metadata": {
    "pycharm": {
     "name": "#%%\n",
     "is_executing": false
    }
   },
   "outputs": [
    {
     "data": {
      "text/plain": "0.8168389955686853"
     },
     "metadata": {},
     "output_type": "execute_result",
     "execution_count": 14
    }
   ],
   "source": [
    "# This is the accuracy score.\n",
    "accuracy_score(gnb.predict(X_test),labels_test)\n"
   ]
  }
 ],
 "metadata": {
  "kernelspec": {
   "display_name": "Python 3",
   "language": "python",
   "name": "python3"
  },
  "language_info": {
   "codemirror_mode": {
    "name": "ipython",
    "version": 3
   },
   "file_extension": ".py",
   "mimetype": "text/x-python",
   "name": "python",
   "nbconvert_exporter": "python",
   "pygments_lexer": "ipython3",
   "version": "3.7.3"
  },
  "pycharm": {
   "stem_cell": {
    "cell_type": "raw",
    "source": [],
    "metadata": {
     "collapsed": false
    }
   }
  }
 },
 "nbformat": 4,
 "nbformat_minor": 2
}